{
  "nbformat": 4,
  "nbformat_minor": 0,
  "metadata": {
    "colab": {
      "provenance": []
    },
    "kernelspec": {
      "name": "python3",
      "display_name": "Python 3"
    },
    "language_info": {
      "name": "python"
    }
  },
  "cells": [
    {
      "cell_type": "code",
      "source": [
        "from google.colab import files\n",
        "files.upload()"
      ],
      "metadata": {
        "colab": {
          "base_uri": "https://localhost:8080/",
          "height": 1000
        },
        "id": "JVdSRtTZVx7Q",
        "outputId": "25f1980e-1629-417e-95c8-7c42e989cd37"
      },
      "execution_count": 1,
      "outputs": [
        {
          "output_type": "display_data",
          "data": {
            "text/plain": [
              "<IPython.core.display.HTML object>"
            ],
            "text/html": [
              "\n",
              "     <input type=\"file\" id=\"files-6e11eb8c-7187-4dc9-8386-ee7deed7e5c2\" name=\"files[]\" multiple disabled\n",
              "        style=\"border:none\" />\n",
              "     <output id=\"result-6e11eb8c-7187-4dc9-8386-ee7deed7e5c2\">\n",
              "      Upload widget is only available when the cell has been executed in the\n",
              "      current browser session. Please rerun this cell to enable.\n",
              "      </output>\n",
              "      <script>// Copyright 2017 Google LLC\n",
              "//\n",
              "// Licensed under the Apache License, Version 2.0 (the \"License\");\n",
              "// you may not use this file except in compliance with the License.\n",
              "// You may obtain a copy of the License at\n",
              "//\n",
              "//      http://www.apache.org/licenses/LICENSE-2.0\n",
              "//\n",
              "// Unless required by applicable law or agreed to in writing, software\n",
              "// distributed under the License is distributed on an \"AS IS\" BASIS,\n",
              "// WITHOUT WARRANTIES OR CONDITIONS OF ANY KIND, either express or implied.\n",
              "// See the License for the specific language governing permissions and\n",
              "// limitations under the License.\n",
              "\n",
              "/**\n",
              " * @fileoverview Helpers for google.colab Python module.\n",
              " */\n",
              "(function(scope) {\n",
              "function span(text, styleAttributes = {}) {\n",
              "  const element = document.createElement('span');\n",
              "  element.textContent = text;\n",
              "  for (const key of Object.keys(styleAttributes)) {\n",
              "    element.style[key] = styleAttributes[key];\n",
              "  }\n",
              "  return element;\n",
              "}\n",
              "\n",
              "// Max number of bytes which will be uploaded at a time.\n",
              "const MAX_PAYLOAD_SIZE = 100 * 1024;\n",
              "\n",
              "function _uploadFiles(inputId, outputId) {\n",
              "  const steps = uploadFilesStep(inputId, outputId);\n",
              "  const outputElement = document.getElementById(outputId);\n",
              "  // Cache steps on the outputElement to make it available for the next call\n",
              "  // to uploadFilesContinue from Python.\n",
              "  outputElement.steps = steps;\n",
              "\n",
              "  return _uploadFilesContinue(outputId);\n",
              "}\n",
              "\n",
              "// This is roughly an async generator (not supported in the browser yet),\n",
              "// where there are multiple asynchronous steps and the Python side is going\n",
              "// to poll for completion of each step.\n",
              "// This uses a Promise to block the python side on completion of each step,\n",
              "// then passes the result of the previous step as the input to the next step.\n",
              "function _uploadFilesContinue(outputId) {\n",
              "  const outputElement = document.getElementById(outputId);\n",
              "  const steps = outputElement.steps;\n",
              "\n",
              "  const next = steps.next(outputElement.lastPromiseValue);\n",
              "  return Promise.resolve(next.value.promise).then((value) => {\n",
              "    // Cache the last promise value to make it available to the next\n",
              "    // step of the generator.\n",
              "    outputElement.lastPromiseValue = value;\n",
              "    return next.value.response;\n",
              "  });\n",
              "}\n",
              "\n",
              "/**\n",
              " * Generator function which is called between each async step of the upload\n",
              " * process.\n",
              " * @param {string} inputId Element ID of the input file picker element.\n",
              " * @param {string} outputId Element ID of the output display.\n",
              " * @return {!Iterable<!Object>} Iterable of next steps.\n",
              " */\n",
              "function* uploadFilesStep(inputId, outputId) {\n",
              "  const inputElement = document.getElementById(inputId);\n",
              "  inputElement.disabled = false;\n",
              "\n",
              "  const outputElement = document.getElementById(outputId);\n",
              "  outputElement.innerHTML = '';\n",
              "\n",
              "  const pickedPromise = new Promise((resolve) => {\n",
              "    inputElement.addEventListener('change', (e) => {\n",
              "      resolve(e.target.files);\n",
              "    });\n",
              "  });\n",
              "\n",
              "  const cancel = document.createElement('button');\n",
              "  inputElement.parentElement.appendChild(cancel);\n",
              "  cancel.textContent = 'Cancel upload';\n",
              "  const cancelPromise = new Promise((resolve) => {\n",
              "    cancel.onclick = () => {\n",
              "      resolve(null);\n",
              "    };\n",
              "  });\n",
              "\n",
              "  // Wait for the user to pick the files.\n",
              "  const files = yield {\n",
              "    promise: Promise.race([pickedPromise, cancelPromise]),\n",
              "    response: {\n",
              "      action: 'starting',\n",
              "    }\n",
              "  };\n",
              "\n",
              "  cancel.remove();\n",
              "\n",
              "  // Disable the input element since further picks are not allowed.\n",
              "  inputElement.disabled = true;\n",
              "\n",
              "  if (!files) {\n",
              "    return {\n",
              "      response: {\n",
              "        action: 'complete',\n",
              "      }\n",
              "    };\n",
              "  }\n",
              "\n",
              "  for (const file of files) {\n",
              "    const li = document.createElement('li');\n",
              "    li.append(span(file.name, {fontWeight: 'bold'}));\n",
              "    li.append(span(\n",
              "        `(${file.type || 'n/a'}) - ${file.size} bytes, ` +\n",
              "        `last modified: ${\n",
              "            file.lastModifiedDate ? file.lastModifiedDate.toLocaleDateString() :\n",
              "                                    'n/a'} - `));\n",
              "    const percent = span('0% done');\n",
              "    li.appendChild(percent);\n",
              "\n",
              "    outputElement.appendChild(li);\n",
              "\n",
              "    const fileDataPromise = new Promise((resolve) => {\n",
              "      const reader = new FileReader();\n",
              "      reader.onload = (e) => {\n",
              "        resolve(e.target.result);\n",
              "      };\n",
              "      reader.readAsArrayBuffer(file);\n",
              "    });\n",
              "    // Wait for the data to be ready.\n",
              "    let fileData = yield {\n",
              "      promise: fileDataPromise,\n",
              "      response: {\n",
              "        action: 'continue',\n",
              "      }\n",
              "    };\n",
              "\n",
              "    // Use a chunked sending to avoid message size limits. See b/62115660.\n",
              "    let position = 0;\n",
              "    do {\n",
              "      const length = Math.min(fileData.byteLength - position, MAX_PAYLOAD_SIZE);\n",
              "      const chunk = new Uint8Array(fileData, position, length);\n",
              "      position += length;\n",
              "\n",
              "      const base64 = btoa(String.fromCharCode.apply(null, chunk));\n",
              "      yield {\n",
              "        response: {\n",
              "          action: 'append',\n",
              "          file: file.name,\n",
              "          data: base64,\n",
              "        },\n",
              "      };\n",
              "\n",
              "      let percentDone = fileData.byteLength === 0 ?\n",
              "          100 :\n",
              "          Math.round((position / fileData.byteLength) * 100);\n",
              "      percent.textContent = `${percentDone}% done`;\n",
              "\n",
              "    } while (position < fileData.byteLength);\n",
              "  }\n",
              "\n",
              "  // All done.\n",
              "  yield {\n",
              "    response: {\n",
              "      action: 'complete',\n",
              "    }\n",
              "  };\n",
              "}\n",
              "\n",
              "scope.google = scope.google || {};\n",
              "scope.google.colab = scope.google.colab || {};\n",
              "scope.google.colab._files = {\n",
              "  _uploadFiles,\n",
              "  _uploadFilesContinue,\n",
              "};\n",
              "})(self);\n",
              "</script> "
            ]
          },
          "metadata": {}
        },
        {
          "output_type": "stream",
          "name": "stdout",
          "text": [
            "Saving titanic.zip to titanic.zip\n"
          ]
        },
        {
          "output_type": "execute_result",
          "data": {
            "text/plain": [
              "{'titanic.zip': b'PK\\x03\\x04-\\x00\\x00\\x00\\x08\\x00v\\x81\\x82S\\xf6VPR\\xff\\xff\\xff\\xff\\xff\\xff\\xff\\xff\\n\\x00\\x14\\x00tested.csv\\x01\\x00\\x10\\x00\"s\\x00\\x00\\x00\\x00\\x00\\x00\\\\,\\x00\\x00\\x00\\x00\\x00\\x00\\x8d}\\xd9r\\xe3H\\x92\\xed\\xfb5\\xbb\\xff\\x00\\xd3K\\xab\\xcdX, \\xb0?\\x92\\xd4\\x96\\x99\\xdaJLK\\xd9\\xcc[\\x88\\x0c\\x91(\\x81\\x80\\n \\x95\\xa5\\xfc\\xfaq\\x8fp\\x8f\\x85RM\\xcf\\xb4\\xd5twu!\\x18\\x8b/\\xc7\\x8f/y/\\xc7Qu\\x1b5|YO\\x96\\x87\\xe1\\xadyS\\xeb\\xc9\\xfd\\xaa\\x85\\xbf=\\xb9\\x95;5Y\\xaa\\xbf\\'\\xb3\\r\\xfc{\\xf3\\xb4|\\x9d\\xdc\\xcba\\xb5\\x9d|oV/j?\\xb9\\x90\\x83\\x9a,\\xe4S\\xd3M\\xcewOrxQ\\xeb\\xff\\xff\\xff\\xaaZL\\xe2I:9\\xf9\\xa6\\xda\\xf6}\\x12\\xdd\\x0c\\xd3\\xe8+,4\\x9eLv\\xb2U\\x934\\x9b\\xe6\\xf0\\x0f\\xc0?\\x92\\xc6u\\x92L\\xcai%\\xe0\\x93\\xc9\\x1f\\xf8i:I\\xf0\\xd3\\xc7\\xa6}Q#~;\\xd2\\xc7\\xd1\\xe9y\\xdb\\xaa.\\xbaUj=\\xfe\\xfbd\\xf2\\xac\\xf4bY\\t\\x1f\\xc0RE*J1)\\'\\x93%\\xae\\x92\\xc1\\xdf\\x12\\x93\\x93\\x9b\\xf7\\xd6,2\\x8d\\xbeo\\xfb\\x9d\\x1c\\xa3\\x8bAv\\xab\\x86wR\\x08\\xbd\\x0f\\x91\\xc5\\xa2,&\\xf5\\xb4\\xa8\\xca\\x9c\\xf6\\x91\\x9b#<6\\xc3/\\xb3\\xc0\\xac}R\\xc3\\x9e>\\x14\\xa59@\\x92\\'y6\\xa9\\xa6E!r\\xfa\\xe9\\xc2\\x1c\\xe0\\xaa\\x19\\xde\\xfaNut\\x84Y\\xab\\xfe\\x96\\xddZ\\r\\xd1\\xe9\\x95j72:\\x8f\\xae\\x9bn\\xfd\\xd7[3\\xee\\xdda\\x84\\x80\\x8f\\xe1\\xf3$ND]M\\x121\\x15zGz\\xe1\\xd2\\xech\\xf9\\xa6\\xbaq\\xec;\\xba\\xd7~+\\xbbh\\xa1\\xe0\\xd9:\\xda[\\x92\\xe9\\xbd\\x95yZ\\xc1\\x91\\x84\\xddXe6\\xb6\\xe8\\xbb\\xae7\\xef\\xd2\\x8c\\xb0\\xb3or\\xaf\\xec\\x06\\xd2\\xd8>\\x0c\\xde\\xe6\\xb4p\\x0fS\\x9b+]\\xc8v\\xfd\\x13\\xde\\xd5\\xbf\\x94\\xa3[\\x15\\x85>\\x85\\xc8\\xaa\\x12\\xb6 j\\xfd\\xfbu\\x1c\\x9b\\xdf\\x9f=\\rr\\xdb\\xec\\xf8i\\xfbQ\\xbdn\\xa3\\xd3e\\xff\\xbamTt%[y\\xd8G\\xe7r<\\xb8[I*\\xf3JE^\\xc2\\x96\\x84\\xde\\xd2\\x02WL\\xcc\\x8d\\x9c\\xc9\\xb7\\x86\\x9f\\x19\\xee\\xa3\\x8b\\x96rwP-\\xef\\x06v\\x02\\xff\\xdc\\xec\\xf7,\\xca\\xaa\\xaa\\xc4}M\\x93\\x9c\\xf6D\\x82\\xfa\\xa5m\\xd4\\xf3\\xb3Y\\xe1\\xbf\\xda\\xa6\\xa7O\\xcd]d\\xb5\\x101\\ni\\x9dW\\xf4Y:\\xc1\\xc3\\x9c|\\x85\\x07\\xa6\\xdf]l\\xe5\\x00\\xb2\\x16-\\x06\\x85\\x8fC\\x0bd\\x85^\\xa2\\x00y\\x84K1\\xdff\\xfarN\\x96\\xdd;H\\x83\\xbd\\x05\\xd8\\xf5}\\xd3\\xb6\\xe3\\xd3ax\\x8fNo\\xe1\\x82U\\xb4\\xdc+|\\xeb\\xbe\\xf3\\x04$\\xd5\\xd2.\\x12!\\xaaI\\x05\\xe2Q\\x14\\xe5d\\x9e\\xe5f\\xe9\\xdc<\\xd1U\\xffS\\x0ek\\xb3\\xaf\\xb9\\xea\\xfe\\x94;+\\x1b\\x05}\\x9f\\xc5E\\xee\\xb6d\\xde\\xeb\\x04\\xce\\xf0\\xfc\\xac\\x14\\xed\\xe9J\\r\\xe6m\\x0f\\xb0\\x17\\x10\\xdb\\x85\\x1c\\x06x!\\x10\\x9fq\\x0f\\xaf\\xad\\xa2\\xef}\\xbf\\xe9\\xfb\\xf5\\x07U|\\x9c\\x9eO\\xef\\xa7Q^\\xa6\\xd9\\xa4H\\xa6\\t\\x08\\xf0y\\x9a\\x98_\\xc2\\x7f\\x02v\\xb8Vm\\x04\\xeb\\xb5=\\xfd\\xd6R=\\xc9q\\xdf\\xc8\\xae\\x8fNg\\xc3Fu\\x8d\\x8c.U\\xd7\\xbf\\xa9\\xb1\\xf1\\x0e\\x9f\\xe9\\xf5\\x97\\x8b\\xdf\\xefg\\x0f_\\x96\\x91H\\xe0\\xf0\\xa2\\x9c\\x96\"\\xaeH\"*s\\x03\\xdf\\x94\\xec\\x94\\xb9\\x803\\xd95V\\x16RcwD\\x9a\\xe2\\xe6@\\xbdR\\xa3\\xeeu\\\\\\x1bA\\x98\\x8d\\xa3$9\\xb8TC\\xd3\\x8fN\\x88\\x8c\\x08\\xd6B\\x8b`n~/!\\x99\\xfe\\xd2\\xee\\xe4\\x8b\\xec6rd\\xad\\xfa\\xb2\\x96\\xa0\\xe0o\\xcd\\x9f\\xd2m\\xdf\\\\\\xcf\\xf2\\xfb\\xdd\\xed\\xefwb\\x1ai-/Q\\xb2j\\xd2Q4\\x86\\x89\\xddF\\xf4m+\\xdb\\xa6\\xa5+\\xba\\x91\\x03\\xdc\\x8f\\x8cNo\\x1a\\xf8\\x0f\\xbb\\x93\\x93\\x7f\\x9f\\x9c\\xb8\\x9b\\xcfy{E\\xb0=a\\xe4\\xf4\\xa1\\xdfo\\xc7\\xd5\\xb6iI(`\\xad\\xbd\\x15\\x89<\\xd7\\xdb\\xba_DIY\\x80d\\xe7\\xf54\\xa3\\xcfSs)w\\xed\\xa8\\xed\\x18<\\x91B\\x9d\\x1f\\xf6\\x87\\x01\\xcc\\xc6\\xc0\\xb7Z\\xeb_\\xc1\\xef\\xd3\\xa2\\x9a\\xa4\\xf0\\xe21)JB\\xc2~\\xd1*x\\xd4\\xad\\xb2j?k\\x9f\\x07\\xb5\\x86\\xc7\\xee\\xf6}\\xd3\\xa9\\xfd^\\xb9g\\xd6G\\xd1\\xdb\\xc9\\xc1f\\xa5\\tX\\xe54\\xa5\\xf5rs \\xf0\\x0e-\\\\\\x02\\xe9\\xdeC\\xb3\\x02\\xed[G\\xb7=H\\xe8\\x18}\\xf9\\xe2?Z\\xc2K\\x95(\\x8ci\\xc9\\xc6#!\\xa1\\x7fxW\\x03Y\\xd3Q\\x9fm\\x0b\\x87\\xbb\\x96C\\x87\\xdb;\\xdf5\\xed\\xbb\\xb9\\xfah\\xde\\x83\\xf8{\\xc2n\\xcc)]\\x1b\\x98\\xb9\\x02\\xa4\\tD}\\x9e\\x97\\xd1<\\xaf\\xa3y\\x91\\xc2_\\x85\\xf9-2\\xdd\\x0f=8\\xca\\x91-\\';\\x84\\x19?D\\xac\\x1fb\\xf6{\\x0e\\xb2\\x01\\x12\\n\\x86|\\xcarQ\\x99\\xcd\\xde\\x8d\\xfb\\'k\\xb8\\xc1\\x8f\\xa8NE\\x0fr\\xd3\\xe1\\xd3\\xfaN\\x04WJ\\x924\\x07\\xb1\\x86C\\xd7x\\xe8yJ{!I?\\x93[c~@\\xfb\\xb6j\\xdd\\xac\\xf9\\xd2\\xc4\\xd4\\nS\\xe5\\x0b\\x93\\x88\\xcd\\xdd\\xcf\\x07\\xb9f\\xa7\\x8efk\\x0eFb\\x00\\x81$\\x8bg\\x14\\x05~<\\x06\\xc7\\x98\\xc6\\xb0\\xd8L\\x18\\xe5\\x17d\\xae\\xc1:KI\\xee\\xeb\\x1c\\x9e\\x91uL\\x9bi0h\\x02\\x1enZ\\xd8\\x87\\xd2\\xc7\\x01\\x9d\\xbe\\xee\\x0f\\x80;\\x02ck\\xef0\\xbcA0\\x10\\xb3\\xab(\\x8d+g\\xe2Dj\\x16\\xf9\\nf^\\r\\xefl\\xb4\\xdb\\xe6\\xf9\\xb9\\x07\\xc91\\xe0\\x80o \\xd3;YLgZG\\xc1\\x7f\\x81\\x0c\\xd2Ch\\x13\\x84\\xb7\\xa7$\\x8b\\x0c\\x9d\\x1f\\x84\\xe5\\r\\x8dV\\x0f\\xe6k\\xbfG\\xe5\\xdfl=\\xcf\\x9e\\xa6\\xda\\xf2\\xe9E\\x05\\xc0\\x86\\x89\\x80\\xab)y\\xd5\\xdc\\xac\\x8a\\xf79\\xee\\x9d0v\\xebA\\xfd\\x8c.\\x11\\xf94\\xbf\\xe4\\x93\\xdaoa\\xd9\\xf6\\xfd\\xe4$z\\x94{\\xed\\x17\\x9c\\t\\xd0\\xcb?N\\x7f_L\\xa3\\xa2\\x00;+\\xd2i\\xc6\\xcb\\x17\\xe6\\xe5n\\xfa\\xd5\\x8b9\\xf8=\\x08L\\xf3\\xfa\\x1a\\x9d\\xafw\\x87\\x8e_>5\\xb7\\x97\\xa4\\x02D%\\x07\\xb3\\x9aO\\x16ee\\xde\\x80\\x04\\x18\\xb0\\x82|S\\xad\\xa4\\xfb\\xfb\\x01\\x10\\x11\\x16\\xeaG\\xf4\\x0e\\xf4\\xbf\\xb8\\xbfI&\\x8a\\\\\\xb8\\x95\\xaaJ\\x04N\\\\\\x10,A\\x1b\\xc5\\x92\\xbd\\x94\\x00\\x11P/|\\x8b\\x90f\\xa2\\x04\\x83VMc>Vm\\xbe\\\\\\xc8U\\xb3\\xe2Oo@\\x1e<\\x93k\\xa4\\x11\\xee;\\xaeJ\\x1f\\xa6\\xd5\\x1a\\xe8ha|%Y>\\xb4\\xcd\\xc1\\x8a\\x00\\xe1\\xd3,/\\x0b\\x04Q\\xfc\\x11I\\xf0\\x95\"\\xe7\\x02\\x10n\\xe3c\\x85\\xa4\\x00L\\x92\\x17\\xd3\\xccB\\x85\\x94\\xa1\\xb0\\x1c\\x0e$\\xf3\\x08\\x96~\\xf1\\x9d\\x1b\\xdb\\x89\\x18#\\x07\\x83\\x04o\\x86>M_LJ \\x03\\xff\\xf1\\x97\\xb6\\xa1\\x8f\\t\\xc6\\x02\\x08\\xdfZ\\x9dc\\x8d+K4CS0\\xe8g\\xe0\\xdd\\xf4\\xafg\\xe6\\xd7/\\xfbv=\\xee\\x9a=\\xe9\\xcf\\xad\\xdc\\x03j\\x0c5vy\\xa7\\xfd\\xd2\\xf4\\x0frL\\x80\\x14\\x00\\xf2\\xf0\\xc1s\\xe3\\xb7\\x17=`\\x82\\xfd\\x9e\\xe4\\xf3Q\\xb6\\xe0\\x10\\xa2\\xab\\xe8\\xf4\\xcb\\x80\\x96h\\xd1\\xb7\\x80B=\\x997`R\\xa4\\xa5\\xc8\\xe0\\xad\\xc8\\x86\\xa7dx\\xbf5\\x100\\xb4\\xec\\xde\\xce\\xd7?\\x1b\\xc4\\xf6-\\x88u\\xf4\\x15\\xe0\\xc6%\\xaa\\xd5a\\xad\\xf0\\xa8\\xf0\\xf7|\\xc4o\\x1cV\\x02F\\x1d\\xbc\\x15\\x98\\xab<\\x13\\x933\\xb0kzu\\x92\\xd4{\\xd5\\xee\\xe1\\xa6^\\x1a:q\\xf3\\xd2\\xb7\\xb21p\\xb9SG\\xefl\\\\r\\xc4>\\xb9N|\\x9f\\x9cV\\xe6\\x1d\\x16[\\xf56\\xd0\\xbb\\xdf\\xcbC\\x1b=\\xc0\\xfa\\xe0\\xbb\\xf8\\x1a\\xcdR\\xe4l\\xc0\\x84\\xd4\\xd3r2\\xab\\xcdS\\x92\\xcd]n\\xe5a\\xb3\\x85\\x9f\\x1f\\xdfy\\x9d\\xfd\\x00\\x81T\\x007\\xcb8-\\xb3\\x89V?\\rM\\xb2\\xd8\\xdc\\xd7\\xfc\\xb0z\\xe9\\x94\\xbd0r\\x81\\xb0\\x0b\\x8d\\xd2\\xc0U\\xedd\\xa4\\xed\\x04\\xbc\\xcb\\xe0\\xa1\\xb2\"&\\xf9\\xa8\\xe0\\x05\\xcab*\\xd0\\x1d\\x9d\\x81\\x05\\xc2\\x9de\\x048\\x16\\xfda\\xbf\\x1f\\x8f\\x96>}l:\\x00O\\xa0Y\\xf8o`u\\xbe\\x0f`\\xf6\\xfa\\xc17;)\\xda\\x16\\xb2kiY\\x00\\xbcN\\xf2)!\\xfe\\x8c\\xe0\\xc7\\xd2I\\xde\\xf5a\\xd5@\\x0cg\\xec\\x8f\\xb3\\xb7\\xc6\\xee\\x14\\x10t\\xc1n\\x17\\x04\\x163\\xb2\\xd9\\xf7\\x87\\xf6I\\x1ev\\x1f\\x95\\x87\\x820\\x1f\\x0fV\\xf8\\xf3q\\x8axA\\x1f/3r{\\x05\\x96\\x0fT\\x95\\x8d\\x04\\x07\\x92pL8\\x96w\\x1a\\x81?\\x08_\\x00\\xb0\\xcb\\x11k\\x9b}\\xe4\\xe6\\x01.z\\x00>\\x1aV\\x9aE\\xf6[@\\xb1\\x17m?x\\xf6\\x06\\xf0\\n\\xaeP\\xd79\\x9a\\xbat\\xb2\\x10i\\xb4\\x109\\xfcU\\x9a\\xb5\\xccu\\x9d\\x80\\x99\\xda4\\xf2M\\xae\\x00\\x95\\x91\\x13V\\x83|n\\x00\\x00#\\xe6\\x08#\\x10\\xf4g\\xd34\\x12U\\xa1o7\\xb7\\xae1c\\\\\\xd1\\xacp[\\x8c\\xcf\\xfc@\\x15\\x10\\xaavY\\x15DO\\x02\\x852\\x11,W\\x95\\xf9\\x18t\\xda\\xec`\\x0e\\xa8\\xb0?B\\xcah\\x98\\xd20\\xf8\\xc9\\x18*?\\x81\\xb2*~\\xd8;\\x88\\xdbFP/\\x04\\xef\\x80\\x16\\x8f\\xedh\\x05\\x01\\x0b\\x86\\x93\\xf9\\xe4\"\\xba\\x84{\\xc1\\x85r2\\xc1\\x18\\xbe\\xd9x\\x96\\xec\\xdb\\x95\\xea\\x86w\\xbe\\x03mu+\\xd8?<D1M\\xcc6\\xf2d\\xc2A\\xcba-;\\xb3\\x80~\\x98\\x1f\\xcdj\\x0fX\\xadS\\xa1\\x90\\xc6\\x9f`5\\xb8P\\xbc\\xc7\\x9c\\x8c\\xf4Y\\xf3\"\\xcd6\\x00d\\xbf\\xf0\\x1b$\\xa5\\xbb\\n\\x11\\\\EN\\x12z\\xb3Z\\x0c\\x92L\\x03!\\xc8K\\x80\\x156\\x0cL\\x89f\\x00C\\x98h+O\\xa6%\\'\\xf3<\\xff\\xb3\\x1f^Z\\xf0\\xc4f\\x89\\xf3\\x01P\\x00\\xc7_\\xd6\\x81\\xd2&\\xca\\xb8\\x8e\\xc9:\\xe8%\\x08: *k\\x95\\xc5\\x86\\xf3\\xa1Y\\x03\\x0e\\x89\\xce\\x14hr\\x88\\x0c1\\xba\\xcf\\x10\\x99c\\xe0D\\xb2\\x90\\x13Bp`\\x98d\\xc9 <D\\xbe\\xbc\\x0f\\x94o\\xf1\\x7f\\x83\\xbdyi\\xbd\\x86\\xde\\x19\\xda\\x96{5\\xac\\xde\\xa3\\x05\\x841\\x12\\x02\\xdd\\xfb\\xed;\\xe8\\xe0\\x189|s\\xd3`\\xb4y\\x14\\x0c\\\\L\\x17\\xf0\\xaf\\x08\\x00-84\\xc1\\x02@\\xc0a~\\x18:\\x1bv\\xe9U\\xc3C\\xf3\\xcd\\xa5qm|ZI\\x94F\\x9d\\x1b\\xe7\\x0b\\xb8\\xa8g\\xc3\\xbeh%\\xb82\\x08n\\xe7m\\xdf\\xef\\x9e!rdt\\x94\\x19)@7\\x0bAV&0H\\xc2m\\x14\\x04\\x8b\\xbf\\x83yf@}\\xd9\\x18Z\\x04\\x0f\\xd3l$:4\\x96\\x04\\x8a#s0n\\x020\\x11^\\xdd\\x02\\xc4\\x08\\xaf\\xabH\\x8e\\xed\\x0c\\xc5}/t[7\\xab\\xb3\\xfe\\xb0\\x91mh\\xdc\\x13T\\xf0\\x7f48\\x850\\xb7ts\\x00\\xdf\\x0cV\\xb7\\xb5\\x12\\x02\\x1b\\xdc\\x82\\xc7\\xf0\\xa3k}Oh)R\\xcf\\xff\\x14\\x14\\x05\\x82\\x17x\\xe9\\x99$\\xb9\\x96\\xbf$\\x9f\\x89A\\x16\\xe8\\x87!\\xf3\\xac~\\x14\\x84\\x96o\\x1b\\xb5k\\x0c\\x17\\xc6 \\r\\x102R?`\\xf1<\\xf1\\xac\\xcdB\\xda\\x07\\x97\\xbe\\x0f.(\\xee\\xbbC\\xa2\\'z\\x07\\xa7\\xb7\\x1e\\x9a\\xcdA\\xfd\\xb2\\xb6\\xf3\\rp\\x1f+\\xac`\\xb0i\\x9c1\\x06\\x14D\\x12\\x9cet\\xd5\\x84A.U\\xb3\\xd1\\x8f\\xa6\\xb75\\x83\\xaf\\x1b\\xcfj\\xe4\\xfc\\xe29\\x84\\xc5p6Xu\\x01q\\x8dY\\xa14;\\xfa\\xa6\\xd4\\xab\\xf1,\\x03\\x81\\x18\\xab\\xf3\\xd3\\xcf\\xbf\\x17\\xe6\\xfb\\x8ao\\xd52\\x94\\x1a\\xe8\\x05P \\x07\\x98Zx\\x88\\xb7\\xa8\\xc9\\xe6\\xf5\\x83\\x87\\x04\\x08\\x01\\xd8`\\x06\\x84\\x05q\\x984\\x01\"<\\xd5.\\xa0\\x90\\xc0bh\\xbf\\x9c\\x94%\\n\"\\xa0\\x94\\x05\\\\\\xb8^\\xbf\\xd4\\xb2\\t\\xa6\\xbd]\\xff\\x04!<\\x8e\\xb6\\x0e\\x9b\\xc3\\xb8\\xb7\\x18\\x99\\xd1]V\\x95\\xe8f\\xc9Y\\x96\\x04(\\xce\\xfa\\xf7\\xd6\\xb9JV\\xef\\x0f\\xc2VTe,<a+\\xc9\\x12\\xcf\\xfbC\\xdb\\x8f\\x9eO{\\xb1\\xe2F\\xe4bQj_/\\xb2\\x9c\\xb8\\x9f\\x92\\xf0\\xf2\\x12\\xa2\\xb1\\x03]\\xe9\\x97\\xb1Y\\xf7\\xf6C\\xc3\\xbfh\\xa1\\xc8*x\\x11\\x083K4\\x06\\x8b\\x1c\\xf4%7\\xfaRff\\x95\\x85\\x1c\\xc9$\\x186\\r,j\\xff\\xd3Bf#\\xa8\\xa0u\\xc2\\x11{%1\\xc6gj\\xa7\\x00\\xd5\\x91\\x1f\\x91\\x03\\xaaM\\xf0\\xaa\\xe8G\\xaa@OJB\\x05\\xf0TO\\xe6;mw\\r7\\xea\\x7f\\x8bD5\\x9a\\x89xZ\\xc6p\\x02se\\x1c\\x9bY\\xb6\\x08\\x95{?X\\xeeJ\\x9f\\x1a\\xe2\\xea\\x18\\t\\x85\\x0c\\xc1\\xb2\\xb9/\\xb6\\x9fr\\x18\\xac\\xdf\\xc0((`\\xac\\xc8tVY\\x16\\x98\\xce\\xb2\\xe6\\x8f\\xd7;i\\xf5\\xda\\xd0%\\x10\\xa87\\xe3\\x07\\xfb\\x8b\\xfck\\x9a@x\\xe3\\xc9s\\x15\\x9bU\\xee\\xfeu\\xd6w\\xfdf{\\xc0+w\\xde\\xeb(\\xfe+\\xb2*/<Y\\xa9\\x12sk\\x8f\\xa0\\n\\x9e\\xa8<\\xc8\\xf6\\x15\\xe2d\\x85\\xff\\x8d\\r\\x82\\x11\\x19@u\\xa9Eu\\x15\\x19\\xc6\\xb3\\xf7\\x17K\\xc3\\xce\\xd6}\\xfb\\x0cz\\xa8\\xc0\\xba\\xbc 9\\xd5iH=\\x1a\\xd7\\xf4\\xf5\\xb0\\x06\\x1c\\x8bQ98\\xc9\\x90\\x95\\x15\\xfa\\x8e\\xd19\\x83\\x00\\x83\\x7f\\'\\x00\\\\\\x91\\xe9\\xbcW\\xf8\\x89\"\\x88\\x03P\\xe99\\x14\\x88<\\xd3TK\\xc9N\\xbd\"\\xda\\x0c\\x91\\xd1\\xda\\x91S\\x80\\x8d\\x86n\\x0f\\xf1\\xd1\\xe9\\x1dr\\x81\\xd1\\x95|\\xf7\\xc2\"a\\xbc\\xed\\x85\\xf6\\x94\\xa2\\x04\\x7f\\x00\\xb0f^\\x1a\\xcd\\xaeH8/\\x0fp/f\\x1b\\xc6l\\x84\\xa1G\\x91\\x83\\xb5\\xf7\\xde\\x87`\\xc1\\xbc\\x19:\\x07\\xc1\\xbf\\xca\\x97\\xfe)\\x04xI\\x8a\\xe43j\\x02JVE\\x12\\xf9]u\\x1b\\x1b\\xb8^\\x1e\\xe06\\x87P#\\x19\\x1e\\xe61@v\\xbc\\x00\\xab\\x11\\x15\\x11^\\x0b\\xf9\\xa6\\xbau3n\\xf9\\n\\xde\\x07xm\\x17\\xa1hy\\xd5 \\\\{\\xede\\xa36\\xaauwR\\x16\\xfaa\\x12\\xd8\\x12\\xf8\\x93\\n\\xe3\\xd9\\x05@p\\xfd\\x0b\\x04co F\\xec\\xf8i\\xbeI\\xe4\\xdd\\xcf\\xd7o\\xa0\\xf1\\xbcG\\xa3\\xebG!bQ\\xf9\\xee\\xa9&9\\x06\\x10\\xf6\\xec\\xd9\\xbc.:G!4\\xfc\\xa1\\x1fc\\x10\\x92\\xcbJ\\xed.\\xb5F\\xeae\\x88^\\xb8\\x95\\xdd\\n\\x94\\xb2\\xffi6\\xc5\\x87\\xf51\\xb1&\\x07@\\xa9\\xa6D\\x16V\\xde\\xab\\xd5F\\xdc\\xc1\\x10bV\\x8f\\xbd\\x04[q\\xd4Q\\xb3\\x94\\x16p\\x0c\\xef$@\\x0bM\\x9dz1\\xb6\\xc9\\x13\\xa0\\x93\\xa8\\xc0cL\\xb3,A?\\x91\\x18`W\\xa7\\xacy\\xcdH.\\xf8Z\\xf5\\xaf\\xbd\\x05KDu\\x0bQe\\x89\\xb3\\x905\\xc1\\xdd\\x8b\\xde Uw\\xb6@\\n\\x01\\xe8\\x83\\xebuz\\xce\\xa98\\x1d\\xbb\\xa3\\xe2A\\xd8\\xdc\\xee\\xfe\\x02#C\\x92|7\\x82w\\x80\\x1d\\xf8T\\xa0(\\xf8\\x96cM\\xb1[\\xdd\\xe2\\xfc\\x9c\\t4X\\xf1]v\\xee\\xfb\\x16\\xd3%\\n\\x94M\\xb5;\\x19\\xd2\\xec\\t\\xfb\\x1exx\\xc0\\x18\\x96\\xaa\\xe1\\xd4\\xdcU\\xdfBP\\x18d\\xe6\\x02\\xaa]\\x18S\\xb8\\x88\\xb2\\x18<.2\\xadV\\x82\\x08\\x0e`\\x90o/\\'H]0\\xca\\x02\\x18k\\xb2Q:\\xe9\\xa1\\xef\\x87$\\xf9\\xe1\\xdd\\xb2\\xaa\\xeb\\x9fN\\x80\\xcdgU\\x9a\\x14\\x9e\\xa3M\\xe286_=j\\xc0m\\xbe\\x9b\\xc9\\x01\\xad\\xcb\\xec\\xa9\\x89\\xd0\\xa8\\xc2ez\\x14\\x1e\\xdd\\'\\x04\\x94\\xd5\\xb4Lh\\xe3I\\x1c\\x93\\x15^\\xfe\\xb4)\\x17C\\x82\\xda\\xc0\\x85\\x99?L\\x07j\\xa0pA_\\x12\\xb1\\xbb\\xdc\\xcbn\\xcf\\xf1\\x9fI\\xddi\\n\\x83\\x9d-A\\xe6\\xb4\\xd4\\x9fCx\\xcf.\\x1f\\x96\\xa0l\\xf1r\\xdbx\\x81\\xb9\\x89\\xee\\xe5^\\xfa\\xbe\\xcc\\xde^aL-y2X\\x83\\x8c\\xed9@H\\x1bG\\x9ckS\\x0f8k\\xfc<\\x8a\\xcc\\xd3Dg&p\\x99\\x99\\xa8i7\\x1c\\x8b\\xd9G\\xe4\\x04\\xebV\\x05\\xf1\\xa8\\xbd\\x93T\\xd4\\xb5\\xf6\\xacB\\xa78\\xcc~\\nV_\\xc61#\\x03\\x99\\xe8\\xf4\\xa1\\x1f\\x11\\xa3\\xea\\xf4\\xd2\\x1c\"F/\\x12H\\xff3\\xba\\x81\\xc5IR\\x17[xi\\xd0XBY(l\\x06\\xb6X\\xd4\\xa0S\\x0e\\x9a\\xaf\\rq\\x03\\xacA\\xb2\\xea4\\xc8\\xe0\\x95\\x00\\xa8\\x14\\xe0\\x9d\\x8bi\\x86\\xf1\\r}E\\x88a\\tz6\\x02:\\xd9\\xf1\\xf5\\xcc\\x95&\\xc1\\xe0LH\"\\xba;\\xd2\\xff\\xba\\xbf\\x8f J\\xae1\\xee/\\'\\x97\\x859D\\xa2]\\x0e\\xdc3|\\xb9oH\\xe8p7.\\xf1Jo\\x85Y\\x08\\xcc\\x84\\x03LD\\xfbU\\x98\\xad\\xe8,\\x9b\\xd0\\xd4\\xc1\\xeb\\xce\\xf2\\xf8\\x1ar\\x91aD\\x02\\xda\\x0bJ\\xaf\\xe5\\xcf\\xe1\\xdd\\xf3\\xb4\\xf5\\xc4\\xa5\\x19D\\x1d\\xa7%\\x9b8t\\rf\\xedG\\xa9iR?\\xd4\\xfa\\xea\\xcef\\xe2pC\\x9a\\x01\\xca\\xcfQ\\xacK\\xd6(N\\xbb}k\\xd4\\xd0\\xc9\\xee\\xe3\\x05k7Q\\x94B\\x94\\xbeBs\\xaem\\xb9\\xdaJ\\xf4\\xect,MU\\x1av\\x10\\xf9\\x7f\\x8f\\x9d%\\x1a\\xd5\\xa7\\xfbEE7D&w!\\x877k\\x1cL\\xca\\xce\\xdb\\x08\\x99\\xb3\\x14\\x0cR\\x8d\\x06\\xdb\\xda\\x84\\xa4\\xa0\\x13\\xa8\\xaeS~\\xb2(\\xb4\\xf3UY\\xa5\\xc1\\tJ#\"\\x8b\\xa1yz\\xe2\\xcb\\xbb\\x96\\x07x\\x8bY\\x0b\\x12\\xe2\\xee\\xcf\\x04_i\\x99\\xa4\\x18\\xdf2\\'\\x04+\\xb0\\x19\\x1d\\x00\\xdcp\\xb2\\x033\\x95\\xd1\\xc3\\x01\\xb1\\x1do\\x9cx\\x10\\xc0\\x1dY\\xee\\xe3\\x0eX\\x81\\xc4\\xf4f\\xb5\\xe8\\xad\\x06\\xe3\\xaf\\xfb\\xa6D\\xf0\\x03\\x14\\x98f\\x11\\xbc\\x7f\\xed\\xd9\\x05\\x06/?Uw\\xe0\\xe4Z\\xdf\\xf6;W\\x10@LP\\x92\\xe4x\\xff)\\xfd*\\xa7\\xc6\\xee\\xd5\\xde\\x03\\x8a\\x88\\x1b\\x0e^V\\xca\\x18`\\x01\\xbe\\xd8y{\\xf8\\x96B\\xa6%\\xc4\\xa1\\x1d?\\x96\\x91c\\xef\\xca\\x89\\x8220\\x069\\xfe\\xa2F\\x82\\xd5_\\x87\\xe2\\xa7\\xcbA\\xaeP\\xa9\\x16}\\x8bl\\xd6j\\xdb<\\xc9v\\x1d}\\xf9A+\\xe5\\x06z \\x11\\x02\\xa6A\\xc7\\xda\\x8b<1r\\xc3\\xe9\\xb1k\\xf5\\xac\\x9e\\x06\\xa60t`\\x1b\\x9d\\xea\"\\x11\\xe5\\x81\\x8c\\tr\\x93Y\\x02\\x96\\x0f\\xc2\\xd0\\x0c+\\x19h\\'$}\\xbe\\x81a\\xf8r\\x1f\\x065\\xe2\\xc8\\xca\\x08\\x92\\xbc\\xb3\\xa6\\xdb\\xaf\\xb6\\xb6\\xa6\\xe3\\x87l\\xe1\\xbfr\\x18\\x96\\xa5t\\x955\\xbe\\xa0\\x17\\x88\\xc1\\xf7l\\x1f\\xe1\\xd7\\\\\\x91\\xcdBK\\x90\\x8f\\x97\\xf95\\xf28\\x03\\xc3\\xe6\\x818X\\x82d\\xf0\\xbf\\xe5\\x8bN\\xd9\\xf3[\\xbe\\x0e\\r\\x84\\x01>B\\xb1)\\xb1\\xdc\\xcf\\xda\\xeb\\x8c\\xa3q\\x8c\\xab\\xed\\xaeY\\x13\\xc81\\xd1w\\x88n\\xc0\\xa5\\x16y\\xed\\xc4(%\\x1cz6\\xc8\\xd7\\x97\\xc6\\x86e_\\x95\\xe6\\xef\\xad\\xf92\\xc7\\xa7\\x84\\xcf\\x1f\\x11\\xeao\\x15\\x88\\x02\\xe7\\xb9.\\xfb\\x1e\\x19\\x8d\\xf0\\x050<R^\\xd6B\\xe7\\'\\xc0\\xb2\\xce\"\\x91\\x80/\\xcb\\n\\x8a~`\\x19\\n\\xb1\\xdc2\\xb4\\x9dq\\x04\\x176C\\xe6\\xcf\\xa94\\x84+\\x98G\\xf8d\\x95tB\\xc1\\x10\\xa2!\\xeb\\xa1u\\x8e\\xd0\\x193O(\\x91$O0\\x0bF\\xdfSD\\xef%\\xfa\\x8f\\xf2\\xfct\\x90\\xc2P\\x17\\xff\\x17j\\x13V\\xa5Z\\x1b\\xf0A\\x070\\xb8\\xbb\\xd7@\\xef\\xbcb72\\x92\\xa0\\xb5i^9?\\x91Rh\\x85E`\\n\\x04k\\xf3\\x1b\\xfe\\'\\xb3\\xc89F\\x9f\\x97\\xf0\\xda\\xf29:\\xbd\\x19\\x08\\xce\\xe9d\\xe3\\xa0\\xde}LF\\xe6\\x04<~\\x99S\\xea\\x8f\\x96\\'9\\xfeaP\\xed}\\x0b\\x1aH\\x8e2Ht\"\\x8c\\xd1\\xaa\\x90\\x97\\x08 X\\r8\\xe7u\\xa5\\xe19\\xd7\\x12qEP@\\xce\\xd3\\xef\\xc3\\xd7p\\xe9\\x15\"\\xe3\\xf3\\x8c\\xfc4\\xa7\\xbd\\xfc\\xfa,DY\\xa1\\x15F7\\x9aE\\x00\\xf9\\x8b\\xca\\x97\\xc1\\x8c\\x9c\\xfc\\x02b*\\x8b\\x0e?)8\\xb0\\xef^\\'\\xc1\\rd\\x84K\\xaf\\xe5vo\\x02\\xbc\\x07\\xf5v\\x1cph\\x85\\x81\\xef\\xf2\\xb8\\xc8\\x13\\xf78\\x19EP\\xe7 \\x1e\\xe3V\\xfe$;\\x86\\xa4\\x94\\t\\xbf\\xdb\\xe6ME\\xf7\\xfd~\\xefS\\xd5d@!f\\x02KV\\xa5\\xd3$\\x07\\xadZ\\xe4\\x99\\x11\\x98\\x8ciT\\t\\xdb\\xb1<\\xeam\\xb3\\xea[\\x19\"l\\x08+sk\\x95\\xcc\\xb7\\x148-\\xf7\\xcc\\xa4O\\xc3\\x92\\x85\"f@Y\\x02\\x1e\\xe7S\\x10\\x1c\\xfd\\xd6\\xca\\xd1\\xd6!\\x9e^\\x1dZ\\xc0\\x8e\\xdf \\xda\\xdb#Gx~0\\xd5V\\xd7\\xfd\\xf3Q-\"e\\xf6\\xb4\\x89\\xcb\\xb1V*\\xe12\\x1cX\\x9a\\xcc\\xecl|\\xa5\\xb4\\x05\\x91/\\x17\\x98\\xd7\\x83\\x80le\\xe9:0NXO\\xa1\\x03\\xb1\\x121sZY\\xa4\\xc3\\xf9\\xab\\xb3\\xc3_\\x07d\\x88\\xf9\\x91=\\xda\\x8b\\x0c\\xedrz7\\xfd\\xfd\\x1e\\xcb\\xca\\xca\\x1c\\xc3\\x18\\xf7\\xccD\\x14\\xcc\\x1b-\\xa5.\\x008f\\x95?\\x01\\xc65\\x81\\xe2\\x8c|\\xfe5\\x1c\\xc5\\x99\\xa9;]\\xa5\\xd96~9\\x01;\\x0e\\x90\\xf7#\\xab\\x9f3&\\x85\\x17z\\x02e\\xf3\\xe4\\xd5\\xb7\\x06\\xac\\xb0\\xb8\\xf1\\x9a\\x93\\xf5\\xa0\\x08f\\r\\xe2N\\xef\\x95\\\\Q\\xa9\\xc6\\xe8*\\xf8\\x00\\xc4\\xe9\\xa0\\xe4\\xb6i\\xbd2$a^\\xe9({\\x8f\\x05&Ij\\x83^X\\x9aL\\xf1r\\xf7\\xee\\xca,B\\xb2\\xcf\\x1c-\\xcd3\\x9d\\xe4*S\\x1b\\x90\\xe4$\\xb9\\xdf\\xfb\\xc3N\\xba\\xa76Q\\xde\\x18\\xfdW\\x7f\\x18G\\xc5\\xd0\\xaa4\\nU`)\\x8e\\xc7\\xce&X\\rd\\x80\\xf1\\x80\\x851\\xbc\\x05\\x848}\\x17\\x9e\\x06y\\x03M8\\xdaD\\x19|M\\x90\\x00\\xaefX)6\\x93\\x9d\\x1aC\\x02\\x0b\\xf6\\x8e\\x9c\\n\\x7fD\\xb4\\xea\\xbd\\x1a\\x0eX\\xfe\\xb6\\xffEF\\x80\\x8aN\\x89\\x971\\x0fc\\xa3\\xcc\\x14K\\x90Y\\xd0s\\x82\\xa4\\xdf\\x9a\\xee\\xe5\\xb7+\\xd5\\xb4\\x10/\\xb8\\xf2\\x1cm\\x0c\\xae\\x0f\\xcd\\xa8\"\\xfe\\xdf\\x82\\x97\\xd1\\xef\\x89%\\xc2(u\\xd3\\xd8\\xe2\\xe3\\x9c\\xcc\\xeb|@\\xf3\\xdc\\xb0i\\xdc5\\x1c\\xecg\\x95\\x93\\xd9\\x1c\\x0c[\\x1e\\x9b\\x92\\x92y\\x12\\xd3m\\x92i\\xbd\\xe8\\xd98\\x93\\x930\\x85A\\xac{\\x95N\\xd6\\xd9\\xaa\\xa0\\nK\\xafS+\\x14\\x85\\xb1~\\xc8u\\x8f\\xe0\\x83,\\rj\\x9c\\x18\\xb9H\\xac\\xc58ou\\xde\\x1fK2\\x15\\x98r\\xb0}\\x17\\xfd\\xb8n\\xfch\\xc2\\x88u\\xa9s\\n^E&\\xfc\\x08\\t\\xf5\\x15\\xb2\\xb4~\\xdc\\x07\\xbe\\x05\\x0c\\xd1\\x117f\\xd4\\xa3\\xcc3\\xf4\\x05uao\\xac \\x90{\\r\\x1a\\xb0cL\\xb5l\\x1c\\xb0>\\xb2\\x12\"O|+\\xc19\\xac\\x10\\x93\\xdd\\xf9\\xd4\\x8c\\xa1\\xbaE\\xa1\\xd9\"\\x87\\xc5\\n2\\xbd\\x96&>b\\x89\\xf9s\\x13}\\x1f3\\xc0I\\\\0\\x96\\xed\\x87g\\xca-cqg@\\xce\\xc0\\x8f\\xa6\\x13\\xaf&\\n\\xbe\\xfa`_\\x19\\x85j\\xd3\\x1a\\xfdhZ\\xa4\\xa7\\x08$\\xf8\\x05\\xc7\\xf8\\xa4\\xf9\\xe7\\xd6\\xb6\\xa0t\\xac\\xcedX[\\xa9m\\xca9\\xd8\\x14\\xcfd&\\x06\\xdc\\x88\\x1aY\\xe4\\xd4\\x1e\\xa52\\xdf/\\x9b\\x8e\\xcc\\x13\\xa9\\xf0a\\xed\\x81\\xcbX\\x1f\\x89B\\xdb\\x04\"\\xdd\\xb4p\\xa1mA\\x19W\\x8f\\x9a\\xfc\\x8c\\x99\\xe4H\\x83\\nC>%!\\x13\\xe4\\xf5\\xccy\\xd4\\xca\\xa3\\xf05\\xf9\\xa3\\x1d\\xf4`\\xea\\xa8\\x01j\\x9eGsy\\xd8m@?:\\xdfa\\xa7\\xe6\\x96E\\n\\x06\\xb3\\xc0s^df\\x9b%\\xd7\\x16\\xf4\\xbbW\\xaf\\x1c\\xcf\\x92\\x84\\xdf\\xe5{\\x8bl\\x8c\\xce\\xca\\x9a\\x9a\\x9b/\\xd8@1\\xf6\\xadG>\\x17\\xa6\\tA+q\\t\\xb6\\x88!\\xc1y\\x96\\xd3\\x01\\x88\\x00\\xc3\\xf2\\x01\\xa61L\\xab\\x03\\x80\\x84\\xfdV\\xfdt(\\xc5\\xd8&x\\xd6\\xca\\xd9&Nxy\\xbb\\xfcd\\x93.\\xf5lL\\xf3\\xc7\\xed\\xe4\\x82\\xb6C\\x04\\x02\\x9c\\xea\\xad\\xe1C\\x1b\\xd4\\x8d|\\\\\\xa7\\xf8\\xc4\\x10!\\x02\\xe2Ey\\xdca\\xe5-V\\xc1\\xc8\\xe1\\xaf\\x83\\xae\\xd3\\n\\xaa\\xf6\\xcd\\xeb!q\\x07Q#\\x04\\xe9gp\\x12\\xb3u\\xd2\\x8ak\\xcb\\x19~R\\tU\\xd6>\\r\\x0c\\x1f\\x111\\x86I\\xf0\\xd6R\\xb76\\x1c\\xb1rd6I\\xd5\\xb1s\\xf9w\\x08\\xd2\\xbc[\\xc8\\x11\\x90g`&\\xd0Z\\xcd\\xf3\\n\\xd0=\\x99W\\x9dS\\xd3e:\\xef\\x80x\\tq\\x990\\xf6\\xea\\xe0\\x85\\x81\\x19\\xbfL\\x8d\\x169a\\xfcX\\x92\\xa6`\\x99\\x13\\xe0!\\x1b\\xb3h\\x16#\\xa28\\xf88OF\\xd5\\xca\\x9e\\r\\xe3R\\x07X\\xf0\\x13$\\x1d\\xc0$P\\x0c\\xbf\\xc9!\\x88\\xe68\\xcb\\xb6\\x94\\x1b\\xcb\\x91\\xce<T3\\xa9t\\xe0\\x85u\\xa9\\x00R\\x8b\\xda\\x99M\\xce\\xb0\\xfdP\\xb2\\xf5\\xc4\\xf3\\xe8\\xf0\\x15 *\\'\\x95\\x15\\t\\xf5\\xac\\xdb\\xb4\\xf4\\xb6\\x9c\\xc0\\xe0B\\xe7\\xd4\\xe85\\x04\\xdfU\\x99;\\xd4]q\\x02Wj\\xc6\\x84\\xe4\\xf9\\xc9\\x08\\xdbu\\x08\\xf7\\xc1\\x08\\xa4\\xde\\x97d\\xa4!\\xb6\\x88\\xe6.d!\\xa0Be\\x8a\\x1e\\x19\\xa2S\\xf1(\\x06\\xba\\xd6\\xbaB\\xdc\\x95Y\\xa8QQd\\x87\\xe1\\x96\\x15O\\xef\\xe3\\x82\\x91B\\x8e\\xe5\\xd5\\xae\\x87\\x00\\xbe$\\xbcq6\\xa8\\x9f\\xee\\xe7A\\x1a!\\x86h[\\xccj\\xba\\xcaC\\xd3\\xa8\\x80w\\x17\\x9bR\\x01\\xfaq[h\\xeb\\xf3\\x0f&d\\x8b\\xbe\\xf5\\xdd \\xd7\\x06\\xb2\\xf3Uz\\x884\\x0f\\x11iE c\\xf9\\xaa\\xd6k\\xbf~\\x9f\\xea\\x05H\\x8d\\xf8Tz?I\\xa1K#t\\x83\\xd6yJ\\x91KE\\xf0\\x18\\x80\\xe7\\xe8\\x95Ya\\x18&\\xb5\\xa5\\xfd\\xa4\\xd8\\x06\\xfcOQxi\\x97\\x04\\xab\\x96L\\xc0,\\x9b\\xdd\\x13`\\xc0\\rW\\xdc\\x90\\xd6\\x86\\xf4\\x8a9\\x16\\x97`c\\x98\\x16\\xdb;\\xaa\\tQ<\\xc8q\\x87\\xd0\\xd3\\x866\\xd7\\n\\x02\\x9a\\xaf\\x80\\x9d\\x9f\\xe0o\"\\xf1\\x06\\xf2\\xb09\\x82(E\\x9e\\xc6\\x98\\xbcI\\\\\\x06\\xa3\\xb6%2\\xc3\\xeb\\xd6r~\\xb7~]\\x9f9T\\x91\\x9b\\xfaB~\\xef:e\\xad\\xec\\x9e4\\xaeadL\\xe5?\\xcbf\\x83\\x89Dpl\\xb2s\\xfdH\\xf145\\xe93\\xbc$\"\\xd7y\\'DU\\xcc\\xc6=\\x16\\xe5i\\x06\\x8eB\\x88\\x95M\\xb9f^\\x19C\\t\\xf8T\\x88R\\xe7\\x91\\x16\\x85\\x88\\x16\\x05\\xbdYM\\x05\\xbb\\x7f\\x1c\\x1a\\xe7\\xa9\\x1f\\x9b\\xae\\xd1\\x1c\\xee\\x0f\\xe5\\x9d\\xcd\\x04P\\xa2H\\x8b\\xd8iT]\\xb0\\x16\\xaf\\x8d0[\\xfb\\x17\\x96\\xca\\xe7\\xde;e\\x18\\x04\\xf9\\xefD%2w\\xa0\\xccLb\\x19\\x0e\\xf9B\\x13\\xdb\\x01\\x06\\xa2\\xb45&\\xc2\\xb0&\\x05==\\x9d\\x84\\xca\\x14nV\\x97\\xfdOWj\\xf01\\xa9B\\xe5:T\\xa4g\\xbd\\x86\\xed[\\x03\\xdfL\\xa5\\xcb\\x88\\x1c\\x01\\t`\\x19\\xdar\\x0fn\\xeb\\x88\\xd4\\x13\\x15rF\\xee IL8\\xf9\\x01,.\\xe7\\xc1=\\xf0\\xa4\\xed\\xb8\\xb7\\x0f#\\xbb\\x86F\\xc2r9\\x82\\xc3\\xb3\\xc4\\x90\\xa4\\x89m[S\\xadlu\\xe5:*\\xa5Z\\xff\\xd9\\x87\\xb7\\xaa\\x99\\x80\\xa0\\xf6\\x12\\xbe%\\x1cl\\x8a\\x10\\x98(\\xa6.\\xbco\\xd2\\xeb\\x02$\\xc2\\xf7c\\xae1Ib\\x92\\xdb\\x8b\\xa6\\xeb[*T\\x81(f\\xd3\\x04X\\xfa(\\xa2\\x8c1m\\x16\\xdb%\\xa8\\xc1\\xf2\\x0cCU\\xda\\x85)\\xed\\x0b\\t\\x16\\xaa\\x9dD\\xa7\\x86\\xef\\x9bU\\xe0\\xc9\\xca\\xd4\\xdd,\\x89\\xa9\\xebX\\x0b\\x03^\\r\\xe6\\xbe\\x0f\\xa0<=\\x04\\x1d\\xb3\\x01\\x14\\xe9\\xa8\\xf6-\\x0e{\\xd9`I\\xca\\xef\\xda2\\r~,L\\x99\\x19\\x12UG\\x1d\\x80\\x06\\xd5\\xdeiAZY\\x9aB\\x97\\x7f[\\xc3\\x95\\xc4$\\xc6WJ2\\x10\\xdf\"{\\xd2\\xbfn-\\x97k\\xc3\\xfa\\x14\\xa9\\xb3\\x0c\\xed\\xf9<I\\xe8{\\x16`\\xb9\\xf5\\x8c\\xe7\\xa7\\xf5\\x99\\xe6\\xd91\\xc3\\x1bT\\xdb\\xc0\\x1a\\x84\\x9b\\x1f\\x1bNj\\x98\\xe8\\x1b\\xbe\\xef:\\x07\\x9br\\x03n\\xd2BwU\\x14\\xd9\\xb4\\xb2\\xa4z\\x92\\x90\\x10?6\\xe0\\x0c,\\\\\\xe6e\\x0e&\\x96\\xe5@\\xef\\xbc}i\\xfc\\x92\\xfb\\xdc|\\x1c\\x96\\xb2U\\x06,\\xc1\\xff\\x19q\\xa2\\x0c\\x1c\\x8b$\\xe3PSZ\\x10\\x06j)`n\\xaf\\x95#I8mvv\\x00#\\x13\\xe9z\\x04\\x8bULu\\xc7\\xde\\xaf\\x14\\xa4V\\x15\\xaf\\xf2\\x1by\\xa0\\x14\\xdc_e*\\xbfaE\\x12\\xf2\\x07\\xf5\\xdea\\xf7\\x83\\xd9\\xd6\\x95\\x1c\\xe0\\xbf`*\\xceh\\x1a%\\xd53\\x80\"Y\\xb0\\x1fb+\\x16}\\xcf<\\xcc\\xe9\\x12\\x11\\xa5\\x04G\\x85H?(\\xfe\\xc15L\\x90\\x9d\\xc0J\\x85\\xb1\\x1d\\x17iJk\\x11\\xd8\\r}\\xfay\\x83\\xe50\\x97X\\xb98zY\\x1e\\xdaP\\x1e\\xc7yP\\x11\\x83\\x88gB\\xd1:\\\\+\\xa7V(\\xea?5\\xa5~\\x0b\\x08\\xd8\\xb1\\xcd\\x0f\\xc2\\xa8\\x03\\xc6#X\\x0e\\xe8=\\xa2o\\x98@M\\xc00e\\x96\\x9fI8\\xf9v\\xd3\\x1f\\x9e@5^B\\x019\\xbd\\xd3E\\x11\\xb3\\x1d\\x92\\x85\\'\\'\\xeey\\x83\\x16$\\ri\\nS\\xa5.\\xbc\\xa5)#\\x12D\\xb3\\xd4\\xb8l\\xbc\\x7f\\xe8\\xf6\\xf5\\xe9\\xb3\\xa3\\xd3\\xdb\\xbc\\xdc\\xad\\xf2\\xabX?\\xad\\x14+\\xe3\\xd4d\\xf9\\xc9\\t$:*M1\\xc7\\xaf\\x06\\xeb\\x04\\xa8\\xd4<\\x84\\xb4S\\xcf\\xa3\\x15\\x02\\xc52\\xe7\\xecb\"\\x08\\x0e\\xbbn\\x82\\xc1\\x16,P\\xdc\\xa6\\xf6+\\xd9>s\\xedC\\xcai\\x1a\\x81U\\xb4\\x0c\\x91\\x13\\xeeh[\\xfeTj\\x1f\\xa8\\xf3qn\\x85Z\\xb95\\x1f\\x96\\x03v\\xe1\\x05R\\xd6\\xe5\\xb6\\x95\\x8e\\xf7\\xb4\\xad\\xb9aLab\\xb0:H\\x10$\\x82 \\xf3c\\xe3\\x15\\x9e\\xebL\\xa9~\\x18\\'\\x8eZ\\xb9u\\xc9S1\\xf1\\x1a\\x9b4~21\\x1c\\x08\\xc6\\xd6\\xa6\\xb9L@\\x18\\xe8:\\xf6\\x92\\'\\xa1=\\xe3\\x8e\\xb4\\xc5\\x01\\xc4j\\xe3\\xb7nS\\x1d;_`\\xed\\xb0N\\x0e\\x9e\\xbcLL\\xa5\\xc4\\xa22!t\\xc2\\xf9\\xba\\x1f\\n\\x84\\x91b\\x94\\xbb\\xb6\\x7f\\xc6\\x1a.\\xc7\\xed\\xc4,VX~\\xe8\\x83\\xe4D\\x10H\\x86\\xf8v`ojp\\xce\\x8d\\xec\\xdc>\\nf\"b\\xddD\\x93c\\xce\\xf7\\x0c\\x02j\\xb3\\x07\\n\\xce\\xe6r\\xb5\\xe2j\\x8a\\x07\\xf9\\xfc|h\\xdbp\\x03\\xa2@\\xef\\xe7\\xc8\\xa5$%\\x06\\xe3\\xaai\\xb1\\xe2\\xdbz\\x07,\\x1a\\n0\\xb5MR\\xc4N\\x8aR\")\\xc2p\\x98\\x82\\x9d\\xb3\\xbe\\xc3\\xa4-\\x84\\xc2\\x10zH\\xb0\\xef\\xfb\\xbd\\x1f\\x9bg\\x95\\xbb\\xd7R\\x17\\x94\\xc2\\xd3\"\\x86\\xac\\n\\xda\\x19e@0)\\xc5\\xac\\x9d\\xae\"\\xb3\\x12\\x02\\xf6\\xb0\\xd9\\x80\\xf6E\\xf7=`\\xf0\\xa0\\xbc\\xd8\\x88\\x1c\\x16\\xec\\x84\\\\`BM\\x90\\'\\xc6\\x81rK\\xc0i\\x10\\x16\\x07}^\\xda\\xa0`_[\\x8d&\\x9f\\xceM \\xd9\\xc55\\x83c\\x01\\xa2;\\xf9\\xe2\\x9e\\x8d:w>\\x8bj\\x92\\x94\\xc4\\xf7\\xea\\xdd\\xf2\\x89\\x14k\\x06\\xc2\\x9bi>\\xb0\\xb2,ZB\\xa4\\x91\\xdf\\xab\\xc9q&\\x87\\xb9\\x868\\xd5\\xff\\x95\\xda\\x8b\\xcc\\x82\\xff\\xd8\\xa1\\x89\\xfai\\x0e\\xf5Mu\\xef\\xfd\\xd1\\x99^\\xa2\\x07>\\x8fQGL\\xb7e6\\xddv&\\x08h\\xa4\\xc4:|C\\xae\\xc6\\x8e\\xce\\xe0\\xec\\xfb\\xa2\\x95\\xcd\\xa0\\x10\\\\a\\xbb\\xf5\\x07\\xf7\\xf5Y\\x8b\\x05,I\\xe0\\xf9\\xcc\\x06\\x01\\xc6\\xce\\xfd\\xc0\\xa0\\xcf\\xabi\\xd0\\xf2y\\x14\\xcb&\\x19Kw\\xdf2\\xb4[\\xee\\x15\\xa0\\xa6\\xceU\\x1e\\x1a\\x18\\x86\\\\\\xb0G\\x9cQ}\\rr\\xb1\\xae\\xb2&\\xe1V\\xb5\\xa0+\\xde\\x14:G\\xa7\\xff-\\xb7f=\\xed\\x9dtW\\xf1Qs,\\xaewT\\x02\\rkr\\xb5\\x8e\\xa9\\x8a5.E\\x0eOX\\xfe\\xe3\\xcau\\xe2im\\xfe9\\x8ast\\xae\\xd0\\xb6\\xe0\\xc0*\\x045H~\\x9c\\x8fg\\xf2\\xc2\\xc0\\xce\\x0f\\xcd\\x87\\xc6*\\x10\\xd0\\x16\\xa6\\xb0\\xb4B\\xbfW[\\xa8\\x9eq9:\\xd8yB~\\xa4\\xe1\\xa6Q\\x86\\x9721!\\xc23\\xc4A\\x05%\\xb8\\xaa\\x9a\\x8eI\\xb2\\xbe\\x04[\\xd0\\xad\\x99\\xc7\\xfeh\\xedip\\x08\\x9a\\xfaz\\x9a\\xbaM\\x90\\xc8?\\xaa\\xee\\x17\\x1bY0\\x0c[\\x179\\xd9f\\x07L$\\xc3\\xbd\\xd4N\\x08\\xc8@\\xdf\\xc8\\xd57\\xf9\\x1e8\\xbbOj?\\xf5\\x05g\\xa2\\xd4\\xe5D\\xd6Wq\\xa7\\x1a#\\xe8\\xe1c1\\xd1\\xec\\x0f]^\\x9e\\xc6\\xbe\\xd7\\xe7N\\xb5[\\xf0q\\xd2\\xbdJ8\\x1d\\x84\\x08\\x0b\\x08\\x7f\\x13\\xbf\\xac&\\xc9IzAa\\xf6\\xf0\\x86,\\x1d\\xd7M\\x8b\\xa5\\xd7\\x8f\\xce:\\x9b\\xf4\"<\\\\\\x9c9\\xe3\\x9c\\x13&\\xbei\\xd6\\xfb\\xf1\\xcf\\xde\\xbb\\xf0p\\x8c\\x0c\\xe3\\xcf<\\x8f\\xc3\\xa8\\x83[\\xd2\\xd6 \\xd5\\n\\x0c\\xecN*\\xd7^t@\\xbf\\x7f\\xd8\\xa9\\x90\\x03L\\x8b\\xa9)\\xe9\\xc2\\xe50\\x0bQ2\\xb1\\x90p\\n\\xcfQ8\\x03W\\x94`0\\xben\\xbcp\\xdcAP\\xac\\xf5\\x0c\\xbc\\xa5\\xcd\\xe1Q\\xc5\\xbdf\\xc5\\x8d\\xb5\\xe3\\x8a\\xe2\\xf5Zw\\x8a\\x9e\\x81l`\\xbb(\\x80\\xdb\\x97&PE*n\\t\\x8a\\xf1a\\xe5\\xe3\\\\\\xb5\\xbel\\xea\\x016-\\x91\\x9eC\\xd4\\xff\\xfa,1\\x9d\\xd8\\x94_\\x0f\\x1e\\xb4=\\xbc\\xbeRxk\\x9a*\\xa3/-\\xe6\\x1b\\xa3K\\x00\\xdc\\xea\\xf5\\xd5\\xc2\\xb4\\xd8\\t\\x1fhw\\xa6\\'\\x83\\x94\\xb6\\xa8(\\xc9I\\x86\\xaf\\xdf\\xbb\\xbdt=PX\\xb7\\xfaIk\\x87\\xcb\\xdd\\x9b\\x1d\\xd9\\xf6\\xe1f\\xdc\\xf6-\\xd5\\xd0?\\xf4l\\xda\\xa9y\\x07\\x1c\\xe2k\\x13\\x884\\xa2V-F\\xb4\\x0e\\t\\xb3\\x8fT\\x98;\\xfbGM\\xaa\\xab\\xa2\\xf45I\\x87\\xcc\\xa9\\x17o\\x13\\xdcx\\xff\\xa4E\\xc7\\xe8\\xd5T\\x97\\xbc\\xd7IU\\xf8\\xcaQ\\x90x\\xdf\\xf7/C\\xc7\\x14\\xc6\\x8d\\x1e$d^\\xc8\\x8eGB&\\xca\\xeb\\xbbO\\x92\\x82\\x9a\\x82oV\\x0b\\xc0HCP\\xcdp4G(\\xfb_\\x8a8\\x13N\\xe9]\\xf4\\x7f\\x9b%>\\xeb\\xa5.\\xaa\\xbc\\xf4K\\x0c\\x93\\x82r\\x1c\\xd6\\x9e\\x8eG\\x065:\\xfd\\xd1\\x0c\\x9b\\x06K\"\\xb0\\xdd\\x0e\\'\\x1d\\x1d\\xa5t\\xff\\xd9\\xcc\\x16$\\xc4\\xd7\\xe0c]\\xa8\\x8f\\xd9\\x88\\xd0\\x11\\xe9\\x16\\xef\\xc4c\\x12\\x13\\xce\\xf7-\\xa5\\\\3\\xe3\\x0c\\x91xt\\x0bfk\\xf0O\\x04>1\\xa8\\x15K\\\\R\\xef}k\\xa3\\xa23\\xb9\\xd9Ap\\x89u_\\xef:3\\xf5\\x04\\x067r\\xc7 \\xe2\\x04\\xaf\\xc7\\xb1\\xe8IA\\xc3s\\xeeq\\x8c\\x17\\x99\\x1a\\xdbTF3VB\\xab\\xb9\\\\ \\xa5\\x83\\xbd\\x1a\\x8e,+\\x082\\\\\\xc8\\x03\\x18\\xce~x\\xe56*l3\\xe2\\x87\\xa5\\r\\xe0d\\n\\xfb\\xf3\\xdc|\\xf6(\\x07\\x8ft\\x0f\\x07\\x87\\x99\\xef\\x1634\\xf5\\xb9\\xcb\\x8f$%Efw\\x7f\\xab\\xce\\x18\\xeb\\x81\\xf9\\xa8\\x90\\xaf<\\x8e\\xd5c\\x7f\\xeb%\\x11\\xc1w\\x83\\x1a_\\xfa77T\\xe2\\xabj_>V\\x81\\xe0P\\x89#\\xe1.m\\xc3\\x0fWp\\xd8\\x9elM|\\x06\\x85\\xf91\\x8a%J\\xe3\\x7f(\\xdeHJ\\xaa\\xaa\\xbch\\xb1H\\xc6v\\xb1_\\xf5\\xdd\\'\\x1cuV\\xe5\\xb5/\\xf1%\\t%Wo\\xd8\\xb2\\x0b\\xe9*7h\\x05\\xd3]\\xf8\\xb1v#)\\x89S{\\xe8\\xc7\\xa7\\xd6e\\xf0\\x01N\\xb4\\x8dI\\xb4y\\xb7c\\x8cs\\x89=\\x9c8\\xe4D$\\xeev\\xb8\\xdc\\x07I+\\n\\x94\\x8e\\xea\\xb1\\x8c\\xc6\\xcf~\\xcf#\\xa1\\xb7\\xee\\x8a\\x8a\\x93\\x92P@8\\x0f\\xc3&\\xfdly\\xa2\\xc4\\xc6\\xeb\\x7f\\xfbJ\\xf3\\xe1~\\xb3`]\\xceI\\xdb\\x81\\\\\\xd3\\xa3y\\\\\\x0e\\x1ei1\\xfbl\\xf6V\\x92T\\xf1\\x84@\\n\\xb8S\\xc0\\xa4\\xb6\\xca`\\t\\xeadM\\x1a)\\xb1.\\xf0\\xd2\\xf9\\xfe\\x8b\\x08\\xcb\\xe5\\xf4-WdT]M\\x87\\xf1\\xad\\x01\\xce\\x81\\x9bI0\\x0b\\xec\\x19\\xe3\\x8a,\\xea\\x03\\xceW\\xa2k%\\x885\\xb3,\\x9c\\x19\\xbc\\xe0/E<P\\tA\\xf6\\x94u\\xb0\\xa2~\\x8a3\\xe9\\xe6\\xc3Y\\x90~\\x83\\xa57\\x00<\\xe0?l6G\\x83\\x13xn\\\\\\xa5\\xa5\\xa7\\x98\\xd6,~\\x9c\\x9a\\x03KFw{\\xa3k\\x16\\xe4\\xd1\\x85\\x04Ca\\xe03j\\xf8=\\xeb\\xd7\\x98(:\\xd3\\xb8w\\xdc\\x82\\xf4\\xef-\\x93\\x98\\x1b\\x16$\\x05\\xec\\x06\\xf7\\x91\\x18\\xf2of&\\x9f$I\\xc5\\xa0\\xb5\\xd9\\xef\\xd5\\xdb\\xd0{\\xf5\\x06r\\x87\\xa6>\\x149\\r\\\\\\x13\\x0f\\xb8r&n\\xd6m\\xb6\\xaa\\xb5N\\xff\\xc6k\\xe7\\xb4=F\\xb5\\x88\\x83\\xc1\\x00\\xf05\\xc5b\\xd7r\\xe8W[Ke\\x1e\\xa5\\n\\xb4\\xbai\\x16S\\xe2\\xe0*\\x81\\xc4N\\x96\\xb8\\x01\\x0f\\xb0\\x0eO\\x0e\\x91nf\\xd2\\x15\\x04\\x11\\xf6\\xfa4\\x95t<3)It\\xb6\\r\\xe3w\\x1c\\x84\\xb0a\\xa1\\xd6UO\\x10\\x8e\\xb5\\xd2\\x1f\\xfac\\xc0FZ\\x01\\x02\\xcdr{~nF\\xb3]Wf\\x11D\\x90||j\\xd7\\xc6\\xdcc\\x19\\x02E\\x1e\\x00y\\xe7\\xc1MS\\xb9\\xf2h*W\\xf8\\xd7\\x05/\\x11kj\\xc4\\xd9<n1\\xbb\\x81\\x90E{\\x1e\\xfa\\xf9>$\\x97tWPn\\xbb\\x82\\xce\\xe8\\xf4\\x94\\x9d\\xf0\\xf2\\xef\\x88\\x01\\xc7U\\xbf\\xdf\\x87\\x89\\xc6\\xcc\\xe4\\x9c?K\\xba\\'\\xdcw\\x16\\x80\\x9c\\xef\\xfd\\x8e%\\x87k\\xc0\\x11\\xe4\\x88\\xd0\\x0fp\\x93\\x19\\x82\\x1c\\xd0a\\xabK\\x0b\\xceZa\\xfe\\xeaH\\x85H\\x81R\\x14\\x02\\xcf~\\xd7%!\\x16\\xb0)OL\\x99\\x10\\xed{\\xc9\\x1d\\xdfn]\\xd7\\xb4r%[\\xf0=\\xd2\\x1f\\x16`\\xc0\\x0f2V1\\x17\\xcb\\xceEA[&\\x9c\\xaa\\xcb\\xb2\\xf9\\xcd\\xae\\x0ek=\\x8f\\xa7\\x1f\\xb7\\x07\\x89\\xb3\\r\\xb1v\\xcf5\\xd9\\x98\\x10),\\xba^\\x08\\x11-\\xec\\xa2<+\\xe4\\xc5k\\xd05\\xc3_\\x82v\\xf7xJ\\xc9\\x7f\\xddK\\x82j\\x98\\xd2U\\x8a\\x98$\\x19\\x9b]C\\x93\\x7f\\xa3\\xda7O\\x91s\"{D\\tq_\\x8d9\\xa6yQ\\xd3\\x1aD\\x1d\\x80\\xe6\\xb8t\\xf1BO,\\xd1\\x1d\\x17\\xd1\\xa9)\\x91\\x8f\\xae\\xa9\\xdb; \\xa1\\xb4\"\\xe41\\xf6\\x16$\\xd9T\\xd7)\\xd0\\xb2$\\xe5<\\x80J\\xa3\\xb6\\r\\x84\\x17`0\\x19\\x08WNF\\x92@F\\x04g\\xe1~ \\xd9\\xd7Yw\\xa1{~C\\xb8\\x02\\xe6\\xd1\\x9f\\xc4\\x06\\x9fr=\\xb0\\\\\\xf7?uY\\xe31\\xc2\\xd2\\xdf]\\xdfG\\x10~\\xe0\\xa7<i\\x0cC\\ns\\x158\\xcd\\xd1\\xc1\\x1b\\x194\\x08\\xa4\\x84\\xde\\x8b\\n\\xe0\\x84\\'\\x8b\\x82[\\xd3\\x1e\\xb7\\xcd\\x9e3\\x10f\\xe0\\xa6N\\xa3\\xea\\x84\\x9dD\\x03\\xb3\\xf3y<b\\x04\\x89l\\xd4\\xf0yZ`y\\xe9\\xc2\\xccB\\x80uK~\\x9f\\x8d\\xf6\\xde\\xbc\\xb1`4)\\xc5\\x14\\x10\\xe9\\xa7\\xe0\\xc7\\xe3\"\\xd5\\x01\\xb3-S\\x15\\xb1\\xabw\\xe8V\\xec\\xc8-\\'\\x17\\xce.\\xc8\\xbd\\x1cz\\x8eS\\x15\\xb2\\x82\\xaa\\x80\\xcc\\xc03X\\x8d`\\xac\\xc9\\xf6\\x98\\xc5\\x1e\\x14\\x04\\x06H\\xab\\xfa7m\\xe3\\x7f\\xddHh\\xc1\\xa4H\\x08\\x0f|\\xed\\x8f\\xac\\xa7.|ts\\xc3\\xb8\\xc7\\x1e\\xa3\\xd9*\\xb0\\xa2\"!T\\x1b\\x0e\\xad3e\\xafx2\\x84\\x94NRPV>\\x9bY\\x97\\x88$H\\x1a\\xbb\\xaa\\x12M\\xe3\\x86l\\x88\\xd75\\x9b\\xfb\\xf6X\\xd8\\xa6\\xb4A\\xbd\\xf4\\xae\\x84\\xf2V\\x8d\\x1e\\x7fd\\xfbY2\\x0f\\xde\\xe4\\x86&\\x17\\t\\x19\\xe5[\\xe5\\xb6\\xf0e\\x1c\\xe4\\xf1\\x8fc\\xa7D\\xa1\\xcb\\xdc.\\x04\\xfd6\\x81\\x81\\x07\\x08\\xc7\\xccw\\x04\\xa7/\\xd9\\x10\\xb9\\xee\\x8f:\\xf6\\xd3\\x1c\\x82\\x93f\\xb0\\xed\\xc3j\\xeb\\x98\\x05\\xcd\\x07x\\x12O\\x8f\\x98a\\x84\\x8c\\xe9\\xcd4u\\'g 0\\x8e\\x1cY\\xccZN\\x95\\x87\\xbd4.Y\\x8e\\xce,\\xb6+\\x10\\x18\\xb0\\x85\\x8az\\x0b\\x0f\\x07,\\xbc\\xfc\\x10v\\'BC\\xe8\\x0fE\\x89\"\\xa9\\xf9\\x16\\xc0\\x86\\x8d\\xd4\\xf0\\xea\\xa0\\x1e6\\x8a\\xd0\\x7f\\xd4s\\x02T\\xd0\\'\\xe2\\xb7\\xae\\x02\\xb6*\\xeb)!\\x05\\xc1Mk:\">\\xaa\\xc9\\xf9\\x01\\xdfb\\xe2\\xd5z<\"f\\xb1\\xef\\x96\\xe36\\xc1Y\\xb1\\xf3\\xce\\xe3\\x16!\\xe8|;\\x1e\\x10\\xa3\\xe3M\\xc7\\x91\\t\\xc19_[\\xd4\\xc6\\xe6\\xe4\\x06\\x8e!;\\x7f\\xec\\xe1l\\xd3\\xe9\\xb2\\xc8\\xe1=\\xd2\\xc6\\xe7\\xdf.\\x9a\\xcdL\\xd8\\xfay\\xc5\\xa9\\xe0\\xae\\xb63\\x9cb\\x1b\\xc6\\x1c\\xe0\\xcfzt\\x9b6\\xba\\xf4\\x1a\\x05rlm\\xd3\\x13\\xdc\\x122\\x08\\x9c0\\xf3\\x9b\\xd2\\xbe\\x83\\xdd\\xec\\x0fG\\xd8\\xbe\\xca\\x02[-\\xc8\\xe0\\xde\\xca\\x97\\xc6\\xd2\\xe0\\xb2\\x01\\xa7\\xfd(\\x9b\\x17i\\xe8\\x81\\x138\\xf2Ot\\xd5^\\xaf\\xb9\\x8d\\xc6R\\xdd\\x1dj+b\\x04\\xf7\\xb8\\xd9\\xc1]_\\xbc\\x9e\\x1a7\\xabJ\\xd4\\x01$\\x15\\x82R\\x0c\\x80\\xde\\x0fM\\x10b\\x07Q\\xa9\\x05\\x841\\xf68\\xc0o-\\xb0\\xa4\\xc2\\xac@\\x04\\xc1Za\\xdeu\\xdf\\xf3\\x12#\\x12\\x91\\xf2\\xafCs\\x04\\xeb\\xb4&\\xc7\\xde\\x83\\x13\\x1a\\xd0\\xf4\\xbc\\xfb\\xd8\\x11\\x98D\\r\\x16\\xa5\\r\\x8f\\xcc\\x89S\\x92Q\\x08\\x1c1\\x1e#w\\x17\\xcc\\xc7\\n*\\x91\\x8e\\r \\xf7\\xb3\\x99l\\x81C\"K\\xb8\\xea\\xa3\\xb6e!\\x8e~\\x9ar\\xb5\\x17 3O\\x03U\\x03X,\\x1d\\xa6\\xaf\\xc9\\xd9\\xeb=\\x00\\x1a\\x02=\\xf3\\xfcAJ\\x06\\x14\\x9bLlF\\r\\x89\\xaf\\xc3\\xa0\\x82l%cbt\\x08\\xa9\\xf6\\xdd5;\\x84\\xd4\\xfa\\xfd\\x8d\\xff~A\\xbf=<q\\xfdi5\\xa7Hi\\x8e\\x1d\\xb8\\xfe\\xb5\\xfa%Y\\xe1tB\\xe7Q\\x0ep\\xb3X\\x03b\\x06\\x16\\xa8_\\x14Qc\\x8f\\x93\\xee\\xc6o\\x15Da\\xf2\\xc5\\xcf\\xf4\\x19\\x87K\\x85h\\xf9$\\xc7ZH\\xbc\\xb9y\\x9eD\\xf3<\\x85\\xbfr\\xbaD\\x92\\xd8\\xcf\\xeb3i\\x07!\\x87\\x89;\\xfd\\xa4:S\\xa4\\x04\\x15\\xbc\\xe9s\\x04\\x15\\x06\\xa57\\xefY\\xf5\\x84\\xbdY\\x85\\x1c\\x84\\x9e>G\\x8b\\x90 \\xcf\\xfb\\xfd\\xf8l\\xa3m;g\\xc3K\\xdc\\x92K\\xc2\\xc9\\x86\\x9e \\xa7T\\x8c\\xf0\\x88\\x9d\\xd6\\x0c\\x84\\xc8\\xf8\\xda\\x81\\xe6[\\xf9\\xb3SX\\x82<{j~[J\\xf9\\xe4\\x15\\x9eSO`QU\\xa1\\xb4e$\\xe8\\x97n*\\x94\\x1eg\\x13F\\x1c8IAxs\\xe4\\xe0;\\x13I\\x9e<\\xcav5\\xf4\\xcf6\\x97E#\\x0e\\xed\\xef\\x1aC\\xecr}\\xa0\\xd1\\x1c\\xee\\x08nz\\xbb\\x1c`\\xd7z\\xf2\\x19\\x1d\\xecZ\\xf5\\x06\\x95F\\xa7s\\x88\\x1c\\xc1\\x8d\\x02\\xde\\x1b\\xc0\\xee\\xa9\\x00&{\\xb2PO\\x8a\\x14\\x10<\\x00\\xe5\\xb3$\\x8e\\xce\\x12\\x82y<\\xd0q\\xb9\\xef_\\xf8x\\x14\\x0c\\x84=_\\xf9\\xd163\\x9f\\xa6\\x13\\x19\\xd7\\x9e5O6\\xff{TuF\\xf4\\xe4\\xe7Ug\\x82\\x12\\xcb\\'`A\\\\/\\x89\\x0f\\x83tC\\x988.\\xbb\\x10\\x19Eu4\\xfc\\xd7\\x00\\t\\xeb\\xa2.[\\xb9~\\x1f5\\x8d\\x8c\\xd3\\xb7\\x82\\xd8.\\x9e&\\x86\\xa7\\xfdt\\xfe/\\xacL\\xb6Ywdq\\xec\\xa53*\\x178q\\xd5\\xc2V\\xb6\\xcd)\\xb6\\x04\\x82\\x08\\x9c\\x171-\\xc0mp\\xd4\\xdb\\xe1\\\\\\xe9a\\x18\\xe4\\xbb\\x9e\\xde\\xde\\xb7\\x18 b\\xc9\\xfd\\xc7\\x99`\\xb5\\x86\\x8f\\xc8\\xf4\\xd5\\x98X\\xce4\\xafMc\\xc1\\x12\\xc1\\x89\\xb4\\xeb~\\xf5\\xf2\\xce.\\xfe\\xe3\\x90\\x11\\xed\\xd2\\xb9\\xceC\\x7f\\xc8#\\x1e\\xef\\xfe\\xf5M\\xa9\\xe7\\x7f.\\xf5\\x07d\\x90\\xf9s\\xc0\\x12\\xc1\\xbdp\\xba?\\xd6\\x9b\\x12\\xab\\x0bj\\xe7\\xaa\\xdb\\xec\\xf5$\\x98S=f\\xe7R\\rk\\x89|o8\\x96\\x89\\xe8bp\\x86zP{\\xeeL!g\\xd7\\xc8\\x90\\x1e%\\xf0\\xfd\\x1e\\x14mz\\xfe\\xa9@^\\xe4T\\xd0p\\x83s\\x83x\\xe2\\x02Ucz\\xb3\\xcd\\x911\\xeb\\xfc\\xc9\\xb8\\xc2D\\xe2K\\x10O\\xae`C\\x02$\\x05\\xd0\\x18srZ\\xd8l\\x9b\\xb4\\x9d\\xf4\\x8e\\x11\\x8fN\\xed\\xd0#C*\\xc1\\xbf\\xf9\\xc5\\xce\\xa4\\xea\\x1f\\xa8r\\xc1\\x9dt\\xa0\\xc2\\x8d\\xad>\\xfd\\x04A \\xbb\\x9d\\x86\\x11kN`\\xfa\\n\\x1d\\xc8Q\\x05\\xe1L\\xd7\\x9d\\xe1\\xbe\\xcez\\x84U\\xef\\x11N\\xcf\\xf2\\x8fl\\xa7\\xf6\\x82>q3\\xcfy\\x1e\\xd3Y\\xc9\\xac\\xb3g\\xe3\\xb3R\\xa1\\xc0\\x1c\\xd1\\x9b\\xb7\\xd8?;\\xb9\\x9cXb\\x90wF\\xeb\\xe1\\x185S\\t\\x805\\xedX\\t\\xc0\\xe5\\x82\"\\'\\x93\\xfe\\xd04\\xdb\\xe6\\xad?\\xe8\\x01n\\x86\\xe5>\\x8cH\\xb8E_\\x0f\\x10\\xe9\\xec\\xdf\\xf7r\\x00c\\x01\\xbb\\n\\x07\\xc7\\x92\\xd3\\xd6\\xa3\\x0bsM\\xa9\\xda\\x92\\x11\\xc1}v\\x97\\xcd\\x93\\x1b\\xe6\\x05V\\xb5\\xd3\\xa5{8\\xa0\\x03\\x15s\\x11\\xcd{\\x15\\xc8/\\x19U]JS\\xb9\\xb9\\xfc\\x89(\\x08r\\xdf\\x83\\xd8I\\x9c\\x87\\xb8@\\tn[Bd\\xc1\\x04Y\\x9e_\\xe5\\x95J\\x96a\\xa9\\xa4(\\x08\\xe3x^\\xe7|\\xbd\\xf1\\xe1\\xbb\\xfe\\xbdJ\\xd7\\xef8TU\\xb8*4\\xaf\\xcc\\xd6T\"\\x86\\xf3:H\\x18\\xc3:\\x9c::\\xcf\\x12\\xda\\x00U9|\\x19w\\\\#@nt>\\x1cVv\\xc22M\\xddC\\x12\\x03_y\\x9e\\x0b\\x80\\x18\\x19\\xfcE\\xf8\\xb4`\\xbb\\x0e`\\xc6N\\xff\\xb0J\\xcd\\xab8\\x1f\\x8a\\xf6\\x9c]:O\\x84$\\xc2\\x99\\x12\\x83\\xcc8G\\xa7:Z\\xfb\\xd1\\xac\\xe5\\x9b\\xdfM\\x94\\x1b=\\xfe\\x9c\\x82\\x16\\x05Qwz\\x1e\\x08\\xdf\\x0f\\x8e\\xd7\\x00\\x07\\x8aTd\\xf8\\xd0\\x9f\\xcc\\xa7\\xa5\\xdb\\xa1\\x02b\\xecA\\xe5U>\\xb4M\\n\\xa3\\xb3X7\\x10\\xe8,\\xa7\\xe3\\x16\\xbaY\\xbd\\xe1?\\xb7\\xc58\\x17\\xc3c\\xb8\\n%\\x0e\\xd4j,z\\xf6^Z\\xa7\\xe6P\\xf1\\x1b\\x1c+q\\x14E\\x05~\\x80\\xb8\\x1e\\x1c\\x1a\\x84\\xaa\\x9d\\x12\\x01W\\x12\\x00\\xff\\xd0/\\xae\\xeb\\xc9|a\\xcb\\xff\\xb1[\\\\\\xf0l\\xc8\\xbb\\x7f\\xe9?\\xc2f\\xf8_\\xbcIQ&>\\x89*8/\\xe7M\\x1e\\x0b\\x11\\x07!E\\xfc\\xf3\\x88b\\xeb\\xc2\\xcc\\xa7\\x19\\x1b\\x86\\xb1\\xb1\\xdc!\\x15}\\xea\\xb1:G\\r&i\\x91\\xe14?\\x0f\\xb2r\\x06\\xeefu\\x0b\\x96\\x9b\\x85\\xebVI\\\\@7^Fw\\xff\\xbaV\\xd2\\x1f1\\x94\\x98H[O\\xe4+\\xbc\\t7\\x82GE>n\\x95j=W\\x0c^\\xd0\\x15\\x8fz5gG\\xba\\x9f\\xeb\\x8e%\\xefN)}l\\xa1\\xd0G\\xdeM\\x187t\\x0c\\x868\\x1d7\\x1b|\\x82\\xcb\\x8c.\\x9e\\xfd\\xad\\xb0\\xd0e\\xd3\\x1f\\x8fKAO\\x1c\\xd4\\xb9\\x88\\x92\\xe4s6n\\x9f>\\x0e\\n\\xca\\xa9+\\x17\\x02I_Y9\\xd7\\xb6\\x90\\x9d|c\\xbc\\x14\\n\\x02W\\xb1`>\\xd4/\\x05\\x16\\x9ce\\x03\\xdbI\\xdbfZ\\x1a\\x07%\\x81\\x80\\xbc\\xb0\\xbd)&:\\x1b\\x06{\\x8ekL\\xaf\\xc4v\\xd3\\x9cq\\xbb\\x97\\xef\\xcc\\xc2\\x98\\x8a\\xb8\\xe8\\xbe\\xc7I\\xd4O6eH\\xc4\\x94\\xc7I\\x0b2\\x0e\\x15YO,\\x9fe\\xf2\\x83\\xa8\\xbd\\xab\\xf0\\x0f|\\x80xQ\\xd1L\\x11\\xcf\\xf2hg\\xca\\x95\\xb1\\x02=N69\\x03<o\\x16\\xa7@q\\xf6\\xf4\\xd4\\xebrg:\\xa3n\\x1d;*\\x1bJ\\x0c*7\\xc8\\x14;\\x911ikOJ&\\x95Z\\x9a\\x02\\xcdg\\x83j\\xde\\xc8D\\xde1\\x02H\\x0f\\xabs\\x16\\xeeC\\xff<\\xb5\\xcf;\\'\\xa5\\xef\\xfac\\xaf\\xbc\\xa8\\xc8\\x88\\xda!\\xf2\\xe3\\xd1\\x14y\\xdb\\x86\\xdb\\xeb>\\xfc\\xc3f\\xeb\\xdf\\x13w\\xa1\\x1e\\r\\x97\\x87u\\x19(\\xf4\\xde\\xc9\\x8ed\\x88\\xa4\\xb6\\xd4\\r\\x18\\xa5\\x1d\\xf4$*\\x9a\\xc3{\\x81\\x98\\x1a\\xe2\\xa1\\xe1\\xb7\\xe5^mM+\\x8d6\\xce\\x7f\\xef\\xf4\\x15uzo:{\\x8a\\xa3\\x96wJ\\xf71\\xc8\\xc8\\xfc\\xd3G\\xe5\\xb8\\t\\x12\\xe3\\x98HCnn\\xce\\xae\\xb1&Q\\xbf\\x96\\x1a\\xdc\\xfe\\xf6\\xd0wk\\x1c\\x17\\xc3\\x8a\\xaf\\xf107V2\\n\\xc1\\xee\\xbb\\x90\\xbe\\xe5l\\x1eX\\xce\\x96u\\xf5\\x93Q\\xeb<\\x9e\\x1a<}8\\x04B\\xf0P\\xc99\\x98^\\xe5\\xea\\xef9\\xac\\xf01\\xb7\\xd1\\xbb\\xa0\\x05eQ\\xd26(\\x02\\xbc\\xc4\\x7f\\xd48\"\\x8fJOi\\xe4\\x1c|\\xe2jPEM%;\\x16=\\x99\\x12\\x17B\\x99\\xdc\\xd3\\x16\"\\xb1\\xcf@SM,2f>\\xe4\\xc19\\x01\\x88\\x1b\\xd6\\xc3\\xd1\\xacw\\xfd\\xc7\\xd7\\xd4 \\xda\\xd6\\xee\\xd6T\\xb1~\\x01\\xdf\\xea\\x8a@r\\xa4_F)W\\x18\\x80H7)\\x9cfg\\x96\\x88t\\xdd\\xe4iB\\xba5\\xb5\\x16\\xdf\\x02\\xc6\\xec\\xd8\\x19\\xf1\\x1f\\x874\\xd7\\x03\\x18\\xdf\\xe0\\xaf3\\x80\\t[P\\xda\\xf5\\xde\\xe7q\\xb9d\\xd4\\xfb\\x13\\x0f4\\x0f`\\n\\x81S\\xa2*k\\xa27\\\\%\\r\\xfbj\\xca$8\\xeb\\xc4\\xf7]\\xf8J[\\xdbn#\\xdb*t\\xd4)\\xe4\\xe2Q-\\xb7\\x9f\\xb5\\x05\\xa5\\xfc\\xe7\\xbd=4=Dg\\xf6\\xe1L\\x11\\xac4Y\\xec\\xed\\'\\x19P\\x1cN\\xaf\\x85\\x97\\x07\\\\\\xc2R\\x14\\x0c\\xba\\xb2\\x1a\\xbd\\x14\\xfeq\\x14\\x98\\xe2D\\xba\\x86\\xc5Oo\\xe8?\\x14\\xd4`\\xef\\x11q\\xb2\\x07\\x9d\\xcf\\xe4\\x05iOG\\xfe<G\\xd2\\xc9y\\x904&\\xcb}\\x03Q\\xfe\\xd6\\x8e\\x0f\\x0c\\xe1PtzM\\x16\\xe0\\\\\\xd3\\xf1\\xaf\\x1eW\\x92R\\xb1n\\x8d*\\x02\\xfa\\x8d\\x7f\\xc8\\x8eY\\x98\\xa0\\x06jd\\xf3\\xe2\\xf7\\xae\\x99J\\xae\\xeb\\xfe-h\\x18w\\xbd\\xb6U\\xd0k\\x9b\\xc6\\x1c\\xe3\\xbd\\xaa\\xd5\\x9e\\x81\\xd2c\\xef\\x06\\xe0\\xe9\\x0fgS\\x9c\\x1d\\x8b\\xe4\\x9c+&I9\\xc5\\x87}\\xbd\\x12\"\\x8b\\xbb\\x15\\xf8\\xd8\\x89\\xee\\'\\x98b\\xa9\\xe8.h\\xc3\\xf2\\x18\\xf3\\x12\\xe7\\xf1\\xc7\\xd5\\xb4F\\xde \\'\\x11\\xa0\\xd4\\xc9R\\xaa\\xbd\\xfb\\xd3\\xa6pj\\x07\\xfc\\x7f\\x00\\xd2{\\xf7\\'E\\xa4<\\x12\\xf3\\xc3\\x9fC#&\\xaeX\\'\\xe5\\xd9\\x93N\\xb4\\x8f[f\\xcc\\x9d\\xe0\\xe4\\xf4:8\\x17Q\\x18:\\xdf\\xeb\\x1c\"\\xf5\\xab\\xd8\\x86\\xb0\\x89\\xe1\\xdc\\x01r\\x0ba\\x18,<\\xc9\\xff\\x00PK\\x01\\x023\\x00-\\x00\\x00\\x00\\x08\\x00v\\x81\\x82S\\xf6VPR\\xff\\xff\\xff\\xff\\xff\\xff\\xff\\xff\\n\\x00\\x14\\x00\\x00\\x00\\x00\\x00\\x00\\x00\\x00\\x00\\x00\\x00\\x00\\x00\\x00\\x00tested.csv\\x01\\x00\\x10\\x00\"s\\x00\\x00\\x00\\x00\\x00\\x00\\\\,\\x00\\x00\\x00\\x00\\x00\\x00PK\\x05\\x06\\x00\\x00\\x00\\x00\\x01\\x00\\x01\\x00L\\x00\\x00\\x00\\x98,\\x00\\x00\\x00\\x00'}"
            ]
          },
          "metadata": {},
          "execution_count": 1
        }
      ]
    },
    {
      "cell_type": "code",
      "source": [
        "!rm -r ~/.kaggle\n",
        "!mkdir ~/.kaggle\n",
        "!mv ./kaggle.json ~/.kaggle/\n",
        "!chmod 600 ~/.kaggle/kaggle.json"
      ],
      "metadata": {
        "id": "X-QbcB7lTBih",
        "colab": {
          "base_uri": "https://localhost:8080/"
        },
        "outputId": "5895eff9-b157-49a6-c7f1-518c4fd45c9d"
      },
      "execution_count": 2,
      "outputs": [
        {
          "output_type": "stream",
          "name": "stdout",
          "text": [
            "mv: cannot stat './kaggle.json': No such file or directory\n",
            "chmod: cannot access '/root/.kaggle/kaggle.json': No such file or directory\n"
          ]
        }
      ]
    },
    {
      "cell_type": "code",
      "source": [
        "!kaggle competitions download -c titanic"
      ],
      "metadata": {
        "colab": {
          "base_uri": "https://localhost:8080/"
        },
        "id": "9CPAPmTVa36C",
        "outputId": "26b290ed-2903-49ca-87d9-95c02cb03711"
      },
      "execution_count": 3,
      "outputs": [
        {
          "output_type": "stream",
          "name": "stdout",
          "text": [
            "Traceback (most recent call last):\n",
            "  File \"/usr/local/bin/kaggle\", line 5, in <module>\n",
            "    from kaggle.cli import main\n",
            "  File \"/usr/local/lib/python3.10/dist-packages/kaggle/__init__.py\", line 23, in <module>\n",
            "    api.authenticate()\n",
            "  File \"/usr/local/lib/python3.10/dist-packages/kaggle/api/kaggle_api_extended.py\", line 403, in authenticate\n",
            "    raise IOError('Could not find {}. Make sure it\\'s located in'\n",
            "OSError: Could not find kaggle.json. Make sure it's located in /root/.kaggle. Or use the environment method.\n"
          ]
        }
      ]
    },
    {
      "cell_type": "code",
      "source": [
        "! unzip '/content/titanic.zip'"
      ],
      "metadata": {
        "colab": {
          "base_uri": "https://localhost:8080/"
        },
        "id": "E7OlEPpUa63n",
        "outputId": "0ec624dd-6dba-43b4-a8f3-18f0a89bb7df"
      },
      "execution_count": 4,
      "outputs": [
        {
          "output_type": "stream",
          "name": "stdout",
          "text": [
            "Archive:  /content/titanic.zip\n",
            "  inflating: tested.csv              \n"
          ]
        }
      ]
    },
    {
      "cell_type": "code",
      "execution_count": 47,
      "metadata": {
        "id": "1WMTpDZ4fCR6"
      },
      "outputs": [],
      "source": [
        "import pandas as pd\n",
        "import numpy as np\n",
        "import seaborn as sns\n",
        "import matplotlib.pyplot as plt\n",
        "from sklearn.model_selection import train_test_split\n",
        "from sklearn import linear_model\n",
        "from sklearn.linear_model import LogisticRegression\n",
        "from sklearn import metrics"
      ]
    },
    {
      "cell_type": "code",
      "source": [
        "df = pd.read_csv('/content/tested.csv')"
      ],
      "metadata": {
        "id": "cQvMyBVDYTf-"
      },
      "execution_count": 6,
      "outputs": []
    },
    {
      "cell_type": "code",
      "source": [
        "df"
      ],
      "metadata": {
        "colab": {
          "base_uri": "https://localhost:8080/",
          "height": 458
        },
        "id": "skD15CF5g00S",
        "outputId": "0c048c6b-f201-48a6-aca8-221581c26d77"
      },
      "execution_count": 7,
      "outputs": [
        {
          "output_type": "execute_result",
          "data": {
            "text/plain": [
              "     PassengerId  Survived  Pclass  \\\n",
              "0            892         0       3   \n",
              "1            893         1       3   \n",
              "2            894         0       2   \n",
              "3            895         0       3   \n",
              "4            896         1       3   \n",
              "..           ...       ...     ...   \n",
              "413         1305         0       3   \n",
              "414         1306         1       1   \n",
              "415         1307         0       3   \n",
              "416         1308         0       3   \n",
              "417         1309         0       3   \n",
              "\n",
              "                                             Name     Sex   Age  SibSp  Parch  \\\n",
              "0                                Kelly, Mr. James    male  34.5      0      0   \n",
              "1                Wilkes, Mrs. James (Ellen Needs)  female  47.0      1      0   \n",
              "2                       Myles, Mr. Thomas Francis    male  62.0      0      0   \n",
              "3                                Wirz, Mr. Albert    male  27.0      0      0   \n",
              "4    Hirvonen, Mrs. Alexander (Helga E Lindqvist)  female  22.0      1      1   \n",
              "..                                            ...     ...   ...    ...    ...   \n",
              "413                            Spector, Mr. Woolf    male   NaN      0      0   \n",
              "414                  Oliva y Ocana, Dona. Fermina  female  39.0      0      0   \n",
              "415                  Saether, Mr. Simon Sivertsen    male  38.5      0      0   \n",
              "416                           Ware, Mr. Frederick    male   NaN      0      0   \n",
              "417                      Peter, Master. Michael J    male   NaN      1      1   \n",
              "\n",
              "                 Ticket      Fare Cabin Embarked  \n",
              "0                330911    7.8292   NaN        Q  \n",
              "1                363272    7.0000   NaN        S  \n",
              "2                240276    9.6875   NaN        Q  \n",
              "3                315154    8.6625   NaN        S  \n",
              "4               3101298   12.2875   NaN        S  \n",
              "..                  ...       ...   ...      ...  \n",
              "413           A.5. 3236    8.0500   NaN        S  \n",
              "414            PC 17758  108.9000  C105        C  \n",
              "415  SOTON/O.Q. 3101262    7.2500   NaN        S  \n",
              "416              359309    8.0500   NaN        S  \n",
              "417                2668   22.3583   NaN        C  \n",
              "\n",
              "[418 rows x 12 columns]"
            ],
            "text/html": [
              "\n",
              "  <div id=\"df-17c4a27b-87bb-4660-9334-52f2e6e901ce\" class=\"colab-df-container\">\n",
              "    <div>\n",
              "<style scoped>\n",
              "    .dataframe tbody tr th:only-of-type {\n",
              "        vertical-align: middle;\n",
              "    }\n",
              "\n",
              "    .dataframe tbody tr th {\n",
              "        vertical-align: top;\n",
              "    }\n",
              "\n",
              "    .dataframe thead th {\n",
              "        text-align: right;\n",
              "    }\n",
              "</style>\n",
              "<table border=\"1\" class=\"dataframe\">\n",
              "  <thead>\n",
              "    <tr style=\"text-align: right;\">\n",
              "      <th></th>\n",
              "      <th>PassengerId</th>\n",
              "      <th>Survived</th>\n",
              "      <th>Pclass</th>\n",
              "      <th>Name</th>\n",
              "      <th>Sex</th>\n",
              "      <th>Age</th>\n",
              "      <th>SibSp</th>\n",
              "      <th>Parch</th>\n",
              "      <th>Ticket</th>\n",
              "      <th>Fare</th>\n",
              "      <th>Cabin</th>\n",
              "      <th>Embarked</th>\n",
              "    </tr>\n",
              "  </thead>\n",
              "  <tbody>\n",
              "    <tr>\n",
              "      <th>0</th>\n",
              "      <td>892</td>\n",
              "      <td>0</td>\n",
              "      <td>3</td>\n",
              "      <td>Kelly, Mr. James</td>\n",
              "      <td>male</td>\n",
              "      <td>34.5</td>\n",
              "      <td>0</td>\n",
              "      <td>0</td>\n",
              "      <td>330911</td>\n",
              "      <td>7.8292</td>\n",
              "      <td>NaN</td>\n",
              "      <td>Q</td>\n",
              "    </tr>\n",
              "    <tr>\n",
              "      <th>1</th>\n",
              "      <td>893</td>\n",
              "      <td>1</td>\n",
              "      <td>3</td>\n",
              "      <td>Wilkes, Mrs. James (Ellen Needs)</td>\n",
              "      <td>female</td>\n",
              "      <td>47.0</td>\n",
              "      <td>1</td>\n",
              "      <td>0</td>\n",
              "      <td>363272</td>\n",
              "      <td>7.0000</td>\n",
              "      <td>NaN</td>\n",
              "      <td>S</td>\n",
              "    </tr>\n",
              "    <tr>\n",
              "      <th>2</th>\n",
              "      <td>894</td>\n",
              "      <td>0</td>\n",
              "      <td>2</td>\n",
              "      <td>Myles, Mr. Thomas Francis</td>\n",
              "      <td>male</td>\n",
              "      <td>62.0</td>\n",
              "      <td>0</td>\n",
              "      <td>0</td>\n",
              "      <td>240276</td>\n",
              "      <td>9.6875</td>\n",
              "      <td>NaN</td>\n",
              "      <td>Q</td>\n",
              "    </tr>\n",
              "    <tr>\n",
              "      <th>3</th>\n",
              "      <td>895</td>\n",
              "      <td>0</td>\n",
              "      <td>3</td>\n",
              "      <td>Wirz, Mr. Albert</td>\n",
              "      <td>male</td>\n",
              "      <td>27.0</td>\n",
              "      <td>0</td>\n",
              "      <td>0</td>\n",
              "      <td>315154</td>\n",
              "      <td>8.6625</td>\n",
              "      <td>NaN</td>\n",
              "      <td>S</td>\n",
              "    </tr>\n",
              "    <tr>\n",
              "      <th>4</th>\n",
              "      <td>896</td>\n",
              "      <td>1</td>\n",
              "      <td>3</td>\n",
              "      <td>Hirvonen, Mrs. Alexander (Helga E Lindqvist)</td>\n",
              "      <td>female</td>\n",
              "      <td>22.0</td>\n",
              "      <td>1</td>\n",
              "      <td>1</td>\n",
              "      <td>3101298</td>\n",
              "      <td>12.2875</td>\n",
              "      <td>NaN</td>\n",
              "      <td>S</td>\n",
              "    </tr>\n",
              "    <tr>\n",
              "      <th>...</th>\n",
              "      <td>...</td>\n",
              "      <td>...</td>\n",
              "      <td>...</td>\n",
              "      <td>...</td>\n",
              "      <td>...</td>\n",
              "      <td>...</td>\n",
              "      <td>...</td>\n",
              "      <td>...</td>\n",
              "      <td>...</td>\n",
              "      <td>...</td>\n",
              "      <td>...</td>\n",
              "      <td>...</td>\n",
              "    </tr>\n",
              "    <tr>\n",
              "      <th>413</th>\n",
              "      <td>1305</td>\n",
              "      <td>0</td>\n",
              "      <td>3</td>\n",
              "      <td>Spector, Mr. Woolf</td>\n",
              "      <td>male</td>\n",
              "      <td>NaN</td>\n",
              "      <td>0</td>\n",
              "      <td>0</td>\n",
              "      <td>A.5. 3236</td>\n",
              "      <td>8.0500</td>\n",
              "      <td>NaN</td>\n",
              "      <td>S</td>\n",
              "    </tr>\n",
              "    <tr>\n",
              "      <th>414</th>\n",
              "      <td>1306</td>\n",
              "      <td>1</td>\n",
              "      <td>1</td>\n",
              "      <td>Oliva y Ocana, Dona. Fermina</td>\n",
              "      <td>female</td>\n",
              "      <td>39.0</td>\n",
              "      <td>0</td>\n",
              "      <td>0</td>\n",
              "      <td>PC 17758</td>\n",
              "      <td>108.9000</td>\n",
              "      <td>C105</td>\n",
              "      <td>C</td>\n",
              "    </tr>\n",
              "    <tr>\n",
              "      <th>415</th>\n",
              "      <td>1307</td>\n",
              "      <td>0</td>\n",
              "      <td>3</td>\n",
              "      <td>Saether, Mr. Simon Sivertsen</td>\n",
              "      <td>male</td>\n",
              "      <td>38.5</td>\n",
              "      <td>0</td>\n",
              "      <td>0</td>\n",
              "      <td>SOTON/O.Q. 3101262</td>\n",
              "      <td>7.2500</td>\n",
              "      <td>NaN</td>\n",
              "      <td>S</td>\n",
              "    </tr>\n",
              "    <tr>\n",
              "      <th>416</th>\n",
              "      <td>1308</td>\n",
              "      <td>0</td>\n",
              "      <td>3</td>\n",
              "      <td>Ware, Mr. Frederick</td>\n",
              "      <td>male</td>\n",
              "      <td>NaN</td>\n",
              "      <td>0</td>\n",
              "      <td>0</td>\n",
              "      <td>359309</td>\n",
              "      <td>8.0500</td>\n",
              "      <td>NaN</td>\n",
              "      <td>S</td>\n",
              "    </tr>\n",
              "    <tr>\n",
              "      <th>417</th>\n",
              "      <td>1309</td>\n",
              "      <td>0</td>\n",
              "      <td>3</td>\n",
              "      <td>Peter, Master. Michael J</td>\n",
              "      <td>male</td>\n",
              "      <td>NaN</td>\n",
              "      <td>1</td>\n",
              "      <td>1</td>\n",
              "      <td>2668</td>\n",
              "      <td>22.3583</td>\n",
              "      <td>NaN</td>\n",
              "      <td>C</td>\n",
              "    </tr>\n",
              "  </tbody>\n",
              "</table>\n",
              "<p>418 rows × 12 columns</p>\n",
              "</div>\n",
              "    <div class=\"colab-df-buttons\">\n",
              "\n",
              "  <div class=\"colab-df-container\">\n",
              "    <button class=\"colab-df-convert\" onclick=\"convertToInteractive('df-17c4a27b-87bb-4660-9334-52f2e6e901ce')\"\n",
              "            title=\"Convert this dataframe to an interactive table.\"\n",
              "            style=\"display:none;\">\n",
              "\n",
              "  <svg xmlns=\"http://www.w3.org/2000/svg\" height=\"24px\" viewBox=\"0 -960 960 960\">\n",
              "    <path d=\"M120-120v-720h720v720H120Zm60-500h600v-160H180v160Zm220 220h160v-160H400v160Zm0 220h160v-160H400v160ZM180-400h160v-160H180v160Zm440 0h160v-160H620v160ZM180-180h160v-160H180v160Zm440 0h160v-160H620v160Z\"/>\n",
              "  </svg>\n",
              "    </button>\n",
              "\n",
              "  <style>\n",
              "    .colab-df-container {\n",
              "      display:flex;\n",
              "      gap: 12px;\n",
              "    }\n",
              "\n",
              "    .colab-df-convert {\n",
              "      background-color: #E8F0FE;\n",
              "      border: none;\n",
              "      border-radius: 50%;\n",
              "      cursor: pointer;\n",
              "      display: none;\n",
              "      fill: #1967D2;\n",
              "      height: 32px;\n",
              "      padding: 0 0 0 0;\n",
              "      width: 32px;\n",
              "    }\n",
              "\n",
              "    .colab-df-convert:hover {\n",
              "      background-color: #E2EBFA;\n",
              "      box-shadow: 0px 1px 2px rgba(60, 64, 67, 0.3), 0px 1px 3px 1px rgba(60, 64, 67, 0.15);\n",
              "      fill: #174EA6;\n",
              "    }\n",
              "\n",
              "    .colab-df-buttons div {\n",
              "      margin-bottom: 4px;\n",
              "    }\n",
              "\n",
              "    [theme=dark] .colab-df-convert {\n",
              "      background-color: #3B4455;\n",
              "      fill: #D2E3FC;\n",
              "    }\n",
              "\n",
              "    [theme=dark] .colab-df-convert:hover {\n",
              "      background-color: #434B5C;\n",
              "      box-shadow: 0px 1px 3px 1px rgba(0, 0, 0, 0.15);\n",
              "      filter: drop-shadow(0px 1px 2px rgba(0, 0, 0, 0.3));\n",
              "      fill: #FFFFFF;\n",
              "    }\n",
              "  </style>\n",
              "\n",
              "    <script>\n",
              "      const buttonEl =\n",
              "        document.querySelector('#df-17c4a27b-87bb-4660-9334-52f2e6e901ce button.colab-df-convert');\n",
              "      buttonEl.style.display =\n",
              "        google.colab.kernel.accessAllowed ? 'block' : 'none';\n",
              "\n",
              "      async function convertToInteractive(key) {\n",
              "        const element = document.querySelector('#df-17c4a27b-87bb-4660-9334-52f2e6e901ce');\n",
              "        const dataTable =\n",
              "          await google.colab.kernel.invokeFunction('convertToInteractive',\n",
              "                                                    [key], {});\n",
              "        if (!dataTable) return;\n",
              "\n",
              "        const docLinkHtml = 'Like what you see? Visit the ' +\n",
              "          '<a target=\"_blank\" href=https://colab.research.google.com/notebooks/data_table.ipynb>data table notebook</a>'\n",
              "          + ' to learn more about interactive tables.';\n",
              "        element.innerHTML = '';\n",
              "        dataTable['output_type'] = 'display_data';\n",
              "        await google.colab.output.renderOutput(dataTable, element);\n",
              "        const docLink = document.createElement('div');\n",
              "        docLink.innerHTML = docLinkHtml;\n",
              "        element.appendChild(docLink);\n",
              "      }\n",
              "    </script>\n",
              "  </div>\n",
              "\n",
              "\n",
              "<div id=\"df-862fe179-c482-47f6-ab4c-a32962bf9f7a\">\n",
              "  <button class=\"colab-df-quickchart\" onclick=\"quickchart('df-862fe179-c482-47f6-ab4c-a32962bf9f7a')\"\n",
              "            title=\"Suggest charts.\"\n",
              "            style=\"display:none;\">\n",
              "\n",
              "<svg xmlns=\"http://www.w3.org/2000/svg\" height=\"24px\"viewBox=\"0 0 24 24\"\n",
              "     width=\"24px\">\n",
              "    <g>\n",
              "        <path d=\"M19 3H5c-1.1 0-2 .9-2 2v14c0 1.1.9 2 2 2h14c1.1 0 2-.9 2-2V5c0-1.1-.9-2-2-2zM9 17H7v-7h2v7zm4 0h-2V7h2v10zm4 0h-2v-4h2v4z\"/>\n",
              "    </g>\n",
              "</svg>\n",
              "  </button>\n",
              "\n",
              "<style>\n",
              "  .colab-df-quickchart {\n",
              "      --bg-color: #E8F0FE;\n",
              "      --fill-color: #1967D2;\n",
              "      --hover-bg-color: #E2EBFA;\n",
              "      --hover-fill-color: #174EA6;\n",
              "      --disabled-fill-color: #AAA;\n",
              "      --disabled-bg-color: #DDD;\n",
              "  }\n",
              "\n",
              "  [theme=dark] .colab-df-quickchart {\n",
              "      --bg-color: #3B4455;\n",
              "      --fill-color: #D2E3FC;\n",
              "      --hover-bg-color: #434B5C;\n",
              "      --hover-fill-color: #FFFFFF;\n",
              "      --disabled-bg-color: #3B4455;\n",
              "      --disabled-fill-color: #666;\n",
              "  }\n",
              "\n",
              "  .colab-df-quickchart {\n",
              "    background-color: var(--bg-color);\n",
              "    border: none;\n",
              "    border-radius: 50%;\n",
              "    cursor: pointer;\n",
              "    display: none;\n",
              "    fill: var(--fill-color);\n",
              "    height: 32px;\n",
              "    padding: 0;\n",
              "    width: 32px;\n",
              "  }\n",
              "\n",
              "  .colab-df-quickchart:hover {\n",
              "    background-color: var(--hover-bg-color);\n",
              "    box-shadow: 0 1px 2px rgba(60, 64, 67, 0.3), 0 1px 3px 1px rgba(60, 64, 67, 0.15);\n",
              "    fill: var(--button-hover-fill-color);\n",
              "  }\n",
              "\n",
              "  .colab-df-quickchart-complete:disabled,\n",
              "  .colab-df-quickchart-complete:disabled:hover {\n",
              "    background-color: var(--disabled-bg-color);\n",
              "    fill: var(--disabled-fill-color);\n",
              "    box-shadow: none;\n",
              "  }\n",
              "\n",
              "  .colab-df-spinner {\n",
              "    border: 2px solid var(--fill-color);\n",
              "    border-color: transparent;\n",
              "    border-bottom-color: var(--fill-color);\n",
              "    animation:\n",
              "      spin 1s steps(1) infinite;\n",
              "  }\n",
              "\n",
              "  @keyframes spin {\n",
              "    0% {\n",
              "      border-color: transparent;\n",
              "      border-bottom-color: var(--fill-color);\n",
              "      border-left-color: var(--fill-color);\n",
              "    }\n",
              "    20% {\n",
              "      border-color: transparent;\n",
              "      border-left-color: var(--fill-color);\n",
              "      border-top-color: var(--fill-color);\n",
              "    }\n",
              "    30% {\n",
              "      border-color: transparent;\n",
              "      border-left-color: var(--fill-color);\n",
              "      border-top-color: var(--fill-color);\n",
              "      border-right-color: var(--fill-color);\n",
              "    }\n",
              "    40% {\n",
              "      border-color: transparent;\n",
              "      border-right-color: var(--fill-color);\n",
              "      border-top-color: var(--fill-color);\n",
              "    }\n",
              "    60% {\n",
              "      border-color: transparent;\n",
              "      border-right-color: var(--fill-color);\n",
              "    }\n",
              "    80% {\n",
              "      border-color: transparent;\n",
              "      border-right-color: var(--fill-color);\n",
              "      border-bottom-color: var(--fill-color);\n",
              "    }\n",
              "    90% {\n",
              "      border-color: transparent;\n",
              "      border-bottom-color: var(--fill-color);\n",
              "    }\n",
              "  }\n",
              "</style>\n",
              "\n",
              "  <script>\n",
              "    async function quickchart(key) {\n",
              "      const quickchartButtonEl =\n",
              "        document.querySelector('#' + key + ' button');\n",
              "      quickchartButtonEl.disabled = true;  // To prevent multiple clicks.\n",
              "      quickchartButtonEl.classList.add('colab-df-spinner');\n",
              "      try {\n",
              "        const charts = await google.colab.kernel.invokeFunction(\n",
              "            'suggestCharts', [key], {});\n",
              "      } catch (error) {\n",
              "        console.error('Error during call to suggestCharts:', error);\n",
              "      }\n",
              "      quickchartButtonEl.classList.remove('colab-df-spinner');\n",
              "      quickchartButtonEl.classList.add('colab-df-quickchart-complete');\n",
              "    }\n",
              "    (() => {\n",
              "      let quickchartButtonEl =\n",
              "        document.querySelector('#df-862fe179-c482-47f6-ab4c-a32962bf9f7a button');\n",
              "      quickchartButtonEl.style.display =\n",
              "        google.colab.kernel.accessAllowed ? 'block' : 'none';\n",
              "    })();\n",
              "  </script>\n",
              "</div>\n",
              "    </div>\n",
              "  </div>\n"
            ]
          },
          "metadata": {},
          "execution_count": 7
        }
      ]
    },
    {
      "cell_type": "markdown",
      "source": [
        "# visulation\n"
      ],
      "metadata": {
        "id": "O6zfUZhWQLVy"
      }
    },
    {
      "cell_type": "code",
      "source": [
        "df.isnull().sum()"
      ],
      "metadata": {
        "id": "nd1MOBc3Rhsg",
        "colab": {
          "base_uri": "https://localhost:8080/"
        },
        "outputId": "ca1674b1-6aee-4c24-f378-e2b97a4468ca"
      },
      "execution_count": 8,
      "outputs": [
        {
          "output_type": "execute_result",
          "data": {
            "text/plain": [
              "PassengerId      0\n",
              "Survived         0\n",
              "Pclass           0\n",
              "Name             0\n",
              "Sex              0\n",
              "Age             86\n",
              "SibSp            0\n",
              "Parch            0\n",
              "Ticket           0\n",
              "Fare             1\n",
              "Cabin          327\n",
              "Embarked         0\n",
              "dtype: int64"
            ]
          },
          "metadata": {},
          "execution_count": 8
        }
      ]
    },
    {
      "cell_type": "code",
      "source": [
        "df.shape"
      ],
      "metadata": {
        "colab": {
          "base_uri": "https://localhost:8080/"
        },
        "id": "qvlhzj8ci4ci",
        "outputId": "14d77bec-0718-444f-d1bf-ea65c95e1fb0"
      },
      "execution_count": 9,
      "outputs": [
        {
          "output_type": "execute_result",
          "data": {
            "text/plain": [
              "(418, 12)"
            ]
          },
          "metadata": {},
          "execution_count": 9
        }
      ]
    },
    {
      "cell_type": "code",
      "source": [
        "df.info()"
      ],
      "metadata": {
        "colab": {
          "base_uri": "https://localhost:8080/"
        },
        "id": "vlD4qeB5t5b5",
        "outputId": "878ac6fb-fd1d-4079-ba00-d1802e0a95d5"
      },
      "execution_count": 10,
      "outputs": [
        {
          "output_type": "stream",
          "name": "stdout",
          "text": [
            "<class 'pandas.core.frame.DataFrame'>\n",
            "RangeIndex: 418 entries, 0 to 417\n",
            "Data columns (total 12 columns):\n",
            " #   Column       Non-Null Count  Dtype  \n",
            "---  ------       --------------  -----  \n",
            " 0   PassengerId  418 non-null    int64  \n",
            " 1   Survived     418 non-null    int64  \n",
            " 2   Pclass       418 non-null    int64  \n",
            " 3   Name         418 non-null    object \n",
            " 4   Sex          418 non-null    object \n",
            " 5   Age          332 non-null    float64\n",
            " 6   SibSp        418 non-null    int64  \n",
            " 7   Parch        418 non-null    int64  \n",
            " 8   Ticket       418 non-null    object \n",
            " 9   Fare         417 non-null    float64\n",
            " 10  Cabin        91 non-null     object \n",
            " 11  Embarked     418 non-null    object \n",
            "dtypes: float64(2), int64(5), object(5)\n",
            "memory usage: 39.3+ KB\n"
          ]
        }
      ]
    },
    {
      "cell_type": "code",
      "source": [
        "df.describe()"
      ],
      "metadata": {
        "colab": {
          "base_uri": "https://localhost:8080/",
          "height": 300
        },
        "id": "LE8yqszDi9lH",
        "outputId": "80778ff7-1340-44cb-c89b-04ba2477f84b"
      },
      "execution_count": 11,
      "outputs": [
        {
          "output_type": "execute_result",
          "data": {
            "text/plain": [
              "       PassengerId    Survived      Pclass         Age       SibSp  \\\n",
              "count   418.000000  418.000000  418.000000  332.000000  418.000000   \n",
              "mean   1100.500000    0.363636    2.265550   30.272590    0.447368   \n",
              "std     120.810458    0.481622    0.841838   14.181209    0.896760   \n",
              "min     892.000000    0.000000    1.000000    0.170000    0.000000   \n",
              "25%     996.250000    0.000000    1.000000   21.000000    0.000000   \n",
              "50%    1100.500000    0.000000    3.000000   27.000000    0.000000   \n",
              "75%    1204.750000    1.000000    3.000000   39.000000    1.000000   \n",
              "max    1309.000000    1.000000    3.000000   76.000000    8.000000   \n",
              "\n",
              "            Parch        Fare  \n",
              "count  418.000000  417.000000  \n",
              "mean     0.392344   35.627188  \n",
              "std      0.981429   55.907576  \n",
              "min      0.000000    0.000000  \n",
              "25%      0.000000    7.895800  \n",
              "50%      0.000000   14.454200  \n",
              "75%      0.000000   31.500000  \n",
              "max      9.000000  512.329200  "
            ],
            "text/html": [
              "\n",
              "  <div id=\"df-53dbe150-bb91-4be0-8910-bb0f1f2be308\" class=\"colab-df-container\">\n",
              "    <div>\n",
              "<style scoped>\n",
              "    .dataframe tbody tr th:only-of-type {\n",
              "        vertical-align: middle;\n",
              "    }\n",
              "\n",
              "    .dataframe tbody tr th {\n",
              "        vertical-align: top;\n",
              "    }\n",
              "\n",
              "    .dataframe thead th {\n",
              "        text-align: right;\n",
              "    }\n",
              "</style>\n",
              "<table border=\"1\" class=\"dataframe\">\n",
              "  <thead>\n",
              "    <tr style=\"text-align: right;\">\n",
              "      <th></th>\n",
              "      <th>PassengerId</th>\n",
              "      <th>Survived</th>\n",
              "      <th>Pclass</th>\n",
              "      <th>Age</th>\n",
              "      <th>SibSp</th>\n",
              "      <th>Parch</th>\n",
              "      <th>Fare</th>\n",
              "    </tr>\n",
              "  </thead>\n",
              "  <tbody>\n",
              "    <tr>\n",
              "      <th>count</th>\n",
              "      <td>418.000000</td>\n",
              "      <td>418.000000</td>\n",
              "      <td>418.000000</td>\n",
              "      <td>332.000000</td>\n",
              "      <td>418.000000</td>\n",
              "      <td>418.000000</td>\n",
              "      <td>417.000000</td>\n",
              "    </tr>\n",
              "    <tr>\n",
              "      <th>mean</th>\n",
              "      <td>1100.500000</td>\n",
              "      <td>0.363636</td>\n",
              "      <td>2.265550</td>\n",
              "      <td>30.272590</td>\n",
              "      <td>0.447368</td>\n",
              "      <td>0.392344</td>\n",
              "      <td>35.627188</td>\n",
              "    </tr>\n",
              "    <tr>\n",
              "      <th>std</th>\n",
              "      <td>120.810458</td>\n",
              "      <td>0.481622</td>\n",
              "      <td>0.841838</td>\n",
              "      <td>14.181209</td>\n",
              "      <td>0.896760</td>\n",
              "      <td>0.981429</td>\n",
              "      <td>55.907576</td>\n",
              "    </tr>\n",
              "    <tr>\n",
              "      <th>min</th>\n",
              "      <td>892.000000</td>\n",
              "      <td>0.000000</td>\n",
              "      <td>1.000000</td>\n",
              "      <td>0.170000</td>\n",
              "      <td>0.000000</td>\n",
              "      <td>0.000000</td>\n",
              "      <td>0.000000</td>\n",
              "    </tr>\n",
              "    <tr>\n",
              "      <th>25%</th>\n",
              "      <td>996.250000</td>\n",
              "      <td>0.000000</td>\n",
              "      <td>1.000000</td>\n",
              "      <td>21.000000</td>\n",
              "      <td>0.000000</td>\n",
              "      <td>0.000000</td>\n",
              "      <td>7.895800</td>\n",
              "    </tr>\n",
              "    <tr>\n",
              "      <th>50%</th>\n",
              "      <td>1100.500000</td>\n",
              "      <td>0.000000</td>\n",
              "      <td>3.000000</td>\n",
              "      <td>27.000000</td>\n",
              "      <td>0.000000</td>\n",
              "      <td>0.000000</td>\n",
              "      <td>14.454200</td>\n",
              "    </tr>\n",
              "    <tr>\n",
              "      <th>75%</th>\n",
              "      <td>1204.750000</td>\n",
              "      <td>1.000000</td>\n",
              "      <td>3.000000</td>\n",
              "      <td>39.000000</td>\n",
              "      <td>1.000000</td>\n",
              "      <td>0.000000</td>\n",
              "      <td>31.500000</td>\n",
              "    </tr>\n",
              "    <tr>\n",
              "      <th>max</th>\n",
              "      <td>1309.000000</td>\n",
              "      <td>1.000000</td>\n",
              "      <td>3.000000</td>\n",
              "      <td>76.000000</td>\n",
              "      <td>8.000000</td>\n",
              "      <td>9.000000</td>\n",
              "      <td>512.329200</td>\n",
              "    </tr>\n",
              "  </tbody>\n",
              "</table>\n",
              "</div>\n",
              "    <div class=\"colab-df-buttons\">\n",
              "\n",
              "  <div class=\"colab-df-container\">\n",
              "    <button class=\"colab-df-convert\" onclick=\"convertToInteractive('df-53dbe150-bb91-4be0-8910-bb0f1f2be308')\"\n",
              "            title=\"Convert this dataframe to an interactive table.\"\n",
              "            style=\"display:none;\">\n",
              "\n",
              "  <svg xmlns=\"http://www.w3.org/2000/svg\" height=\"24px\" viewBox=\"0 -960 960 960\">\n",
              "    <path d=\"M120-120v-720h720v720H120Zm60-500h600v-160H180v160Zm220 220h160v-160H400v160Zm0 220h160v-160H400v160ZM180-400h160v-160H180v160Zm440 0h160v-160H620v160ZM180-180h160v-160H180v160Zm440 0h160v-160H620v160Z\"/>\n",
              "  </svg>\n",
              "    </button>\n",
              "\n",
              "  <style>\n",
              "    .colab-df-container {\n",
              "      display:flex;\n",
              "      gap: 12px;\n",
              "    }\n",
              "\n",
              "    .colab-df-convert {\n",
              "      background-color: #E8F0FE;\n",
              "      border: none;\n",
              "      border-radius: 50%;\n",
              "      cursor: pointer;\n",
              "      display: none;\n",
              "      fill: #1967D2;\n",
              "      height: 32px;\n",
              "      padding: 0 0 0 0;\n",
              "      width: 32px;\n",
              "    }\n",
              "\n",
              "    .colab-df-convert:hover {\n",
              "      background-color: #E2EBFA;\n",
              "      box-shadow: 0px 1px 2px rgba(60, 64, 67, 0.3), 0px 1px 3px 1px rgba(60, 64, 67, 0.15);\n",
              "      fill: #174EA6;\n",
              "    }\n",
              "\n",
              "    .colab-df-buttons div {\n",
              "      margin-bottom: 4px;\n",
              "    }\n",
              "\n",
              "    [theme=dark] .colab-df-convert {\n",
              "      background-color: #3B4455;\n",
              "      fill: #D2E3FC;\n",
              "    }\n",
              "\n",
              "    [theme=dark] .colab-df-convert:hover {\n",
              "      background-color: #434B5C;\n",
              "      box-shadow: 0px 1px 3px 1px rgba(0, 0, 0, 0.15);\n",
              "      filter: drop-shadow(0px 1px 2px rgba(0, 0, 0, 0.3));\n",
              "      fill: #FFFFFF;\n",
              "    }\n",
              "  </style>\n",
              "\n",
              "    <script>\n",
              "      const buttonEl =\n",
              "        document.querySelector('#df-53dbe150-bb91-4be0-8910-bb0f1f2be308 button.colab-df-convert');\n",
              "      buttonEl.style.display =\n",
              "        google.colab.kernel.accessAllowed ? 'block' : 'none';\n",
              "\n",
              "      async function convertToInteractive(key) {\n",
              "        const element = document.querySelector('#df-53dbe150-bb91-4be0-8910-bb0f1f2be308');\n",
              "        const dataTable =\n",
              "          await google.colab.kernel.invokeFunction('convertToInteractive',\n",
              "                                                    [key], {});\n",
              "        if (!dataTable) return;\n",
              "\n",
              "        const docLinkHtml = 'Like what you see? Visit the ' +\n",
              "          '<a target=\"_blank\" href=https://colab.research.google.com/notebooks/data_table.ipynb>data table notebook</a>'\n",
              "          + ' to learn more about interactive tables.';\n",
              "        element.innerHTML = '';\n",
              "        dataTable['output_type'] = 'display_data';\n",
              "        await google.colab.output.renderOutput(dataTable, element);\n",
              "        const docLink = document.createElement('div');\n",
              "        docLink.innerHTML = docLinkHtml;\n",
              "        element.appendChild(docLink);\n",
              "      }\n",
              "    </script>\n",
              "  </div>\n",
              "\n",
              "\n",
              "<div id=\"df-b27d6ce0-aeea-46ea-8155-741481e253cc\">\n",
              "  <button class=\"colab-df-quickchart\" onclick=\"quickchart('df-b27d6ce0-aeea-46ea-8155-741481e253cc')\"\n",
              "            title=\"Suggest charts.\"\n",
              "            style=\"display:none;\">\n",
              "\n",
              "<svg xmlns=\"http://www.w3.org/2000/svg\" height=\"24px\"viewBox=\"0 0 24 24\"\n",
              "     width=\"24px\">\n",
              "    <g>\n",
              "        <path d=\"M19 3H5c-1.1 0-2 .9-2 2v14c0 1.1.9 2 2 2h14c1.1 0 2-.9 2-2V5c0-1.1-.9-2-2-2zM9 17H7v-7h2v7zm4 0h-2V7h2v10zm4 0h-2v-4h2v4z\"/>\n",
              "    </g>\n",
              "</svg>\n",
              "  </button>\n",
              "\n",
              "<style>\n",
              "  .colab-df-quickchart {\n",
              "      --bg-color: #E8F0FE;\n",
              "      --fill-color: #1967D2;\n",
              "      --hover-bg-color: #E2EBFA;\n",
              "      --hover-fill-color: #174EA6;\n",
              "      --disabled-fill-color: #AAA;\n",
              "      --disabled-bg-color: #DDD;\n",
              "  }\n",
              "\n",
              "  [theme=dark] .colab-df-quickchart {\n",
              "      --bg-color: #3B4455;\n",
              "      --fill-color: #D2E3FC;\n",
              "      --hover-bg-color: #434B5C;\n",
              "      --hover-fill-color: #FFFFFF;\n",
              "      --disabled-bg-color: #3B4455;\n",
              "      --disabled-fill-color: #666;\n",
              "  }\n",
              "\n",
              "  .colab-df-quickchart {\n",
              "    background-color: var(--bg-color);\n",
              "    border: none;\n",
              "    border-radius: 50%;\n",
              "    cursor: pointer;\n",
              "    display: none;\n",
              "    fill: var(--fill-color);\n",
              "    height: 32px;\n",
              "    padding: 0;\n",
              "    width: 32px;\n",
              "  }\n",
              "\n",
              "  .colab-df-quickchart:hover {\n",
              "    background-color: var(--hover-bg-color);\n",
              "    box-shadow: 0 1px 2px rgba(60, 64, 67, 0.3), 0 1px 3px 1px rgba(60, 64, 67, 0.15);\n",
              "    fill: var(--button-hover-fill-color);\n",
              "  }\n",
              "\n",
              "  .colab-df-quickchart-complete:disabled,\n",
              "  .colab-df-quickchart-complete:disabled:hover {\n",
              "    background-color: var(--disabled-bg-color);\n",
              "    fill: var(--disabled-fill-color);\n",
              "    box-shadow: none;\n",
              "  }\n",
              "\n",
              "  .colab-df-spinner {\n",
              "    border: 2px solid var(--fill-color);\n",
              "    border-color: transparent;\n",
              "    border-bottom-color: var(--fill-color);\n",
              "    animation:\n",
              "      spin 1s steps(1) infinite;\n",
              "  }\n",
              "\n",
              "  @keyframes spin {\n",
              "    0% {\n",
              "      border-color: transparent;\n",
              "      border-bottom-color: var(--fill-color);\n",
              "      border-left-color: var(--fill-color);\n",
              "    }\n",
              "    20% {\n",
              "      border-color: transparent;\n",
              "      border-left-color: var(--fill-color);\n",
              "      border-top-color: var(--fill-color);\n",
              "    }\n",
              "    30% {\n",
              "      border-color: transparent;\n",
              "      border-left-color: var(--fill-color);\n",
              "      border-top-color: var(--fill-color);\n",
              "      border-right-color: var(--fill-color);\n",
              "    }\n",
              "    40% {\n",
              "      border-color: transparent;\n",
              "      border-right-color: var(--fill-color);\n",
              "      border-top-color: var(--fill-color);\n",
              "    }\n",
              "    60% {\n",
              "      border-color: transparent;\n",
              "      border-right-color: var(--fill-color);\n",
              "    }\n",
              "    80% {\n",
              "      border-color: transparent;\n",
              "      border-right-color: var(--fill-color);\n",
              "      border-bottom-color: var(--fill-color);\n",
              "    }\n",
              "    90% {\n",
              "      border-color: transparent;\n",
              "      border-bottom-color: var(--fill-color);\n",
              "    }\n",
              "  }\n",
              "</style>\n",
              "\n",
              "  <script>\n",
              "    async function quickchart(key) {\n",
              "      const quickchartButtonEl =\n",
              "        document.querySelector('#' + key + ' button');\n",
              "      quickchartButtonEl.disabled = true;  // To prevent multiple clicks.\n",
              "      quickchartButtonEl.classList.add('colab-df-spinner');\n",
              "      try {\n",
              "        const charts = await google.colab.kernel.invokeFunction(\n",
              "            'suggestCharts', [key], {});\n",
              "      } catch (error) {\n",
              "        console.error('Error during call to suggestCharts:', error);\n",
              "      }\n",
              "      quickchartButtonEl.classList.remove('colab-df-spinner');\n",
              "      quickchartButtonEl.classList.add('colab-df-quickchart-complete');\n",
              "    }\n",
              "    (() => {\n",
              "      let quickchartButtonEl =\n",
              "        document.querySelector('#df-b27d6ce0-aeea-46ea-8155-741481e253cc button');\n",
              "      quickchartButtonEl.style.display =\n",
              "        google.colab.kernel.accessAllowed ? 'block' : 'none';\n",
              "    })();\n",
              "  </script>\n",
              "</div>\n",
              "    </div>\n",
              "  </div>\n"
            ]
          },
          "metadata": {},
          "execution_count": 11
        }
      ]
    },
    {
      "cell_type": "code",
      "source": [
        "plt.bar(df[\"Sex\"], df[\"Survived\"])\n",
        "plt.title('survived gender')\n",
        "plt.xlabel('sex')\n",
        "plt.ylabel('Survived')\n",
        "plt.show()"
      ],
      "metadata": {
        "colab": {
          "base_uri": "https://localhost:8080/",
          "height": 472
        },
        "id": "m1o0zQl8jyiJ",
        "outputId": "6447d274-cf51-43df-f4de-6fababdf0b7c"
      },
      "execution_count": 12,
      "outputs": [
        {
          "output_type": "display_data",
          "data": {
            "text/plain": [
              "<Figure size 640x480 with 1 Axes>"
            ],
            "image/png": "[encoded data removed]"
          },
          "metadata": {}
        }
      ]
    },
    {
      "cell_type": "code",
      "source": [
        "survived_female=df.loc[(df[\"Survived\"]==0) & (df[\"Sex\"]==\"female\")].value_counts()\n",
        "survived_female"
      ],
      "metadata": {
        "colab": {
          "base_uri": "https://localhost:8080/"
        },
        "id": "AjQ1h8NGwj1B",
        "outputId": "c5c9aa9e-ffa3-4e9a-ffee-4baca2b15059"
      },
      "execution_count": 13,
      "outputs": [
        {
          "output_type": "execute_result",
          "data": {
            "text/plain": [
              "Series([], dtype: int64)"
            ]
          },
          "metadata": {},
          "execution_count": 13
        }
      ]
    },
    {
      "cell_type": "code",
      "source": [
        "survived_female=df.loc[(df[\"Survived\"]==1) & (df[\"Sex\"]==\"female\")].value_counts()\n",
        "survived_female"
      ],
      "metadata": {
        "colab": {
          "base_uri": "https://localhost:8080/"
        },
        "id": "9nZdgJGLpLzs",
        "outputId": "adab6251-bbf3-44bb-b7ee-569ae44eeaca"
      },
      "execution_count": 14,
      "outputs": [
        {
          "output_type": "execute_result",
          "data": {
            "text/plain": [
              "PassengerId  Survived  Pclass  Name                                                             Sex     Age   SibSp  Parch  Ticket       Fare      Cabin            Embarked\n",
              "904          1         1       Snyder, Mrs. John Pillsbury (Nelle Stevenson)                    female  23.0  1      0      21228        82.2667   B45              S           1\n",
              "906          1         1       Chaffee, Mrs. Herbert Fuller (Carrie Constance Toogood)          female  47.0  1      0      W.E.P. 5734  61.1750   E31              S           1\n",
              "1100         1         1       Rosenbaum, Miss. Edith Louise                                    female  33.0  0      0      PC 17613     27.7208   A11              C           1\n",
              "1110         1         1       Widener, Mrs. George Dunton (Eleanor Elkins)                     female  50.0  1      1      113503       211.5000  C80              C           1\n",
              "1114         1         2       Cook, Mrs. (Selena Rogers)                                       female  22.0  0      0      W./C. 14266  10.5000   F33              S           1\n",
              "1131         1         1       Douglas, Mrs. Walter Donald (Mahala Dutton)                      female  48.0  1      0      PC 17761     106.4250  C86              C           1\n",
              "1164         1         1       Clark, Mrs. Walter Miller (Virginia McDowell)                    female  26.0  1      0      13508        136.7792  C89              C           1\n",
              "1197         1         1       Crosby, Mrs. Edward Gifford (Catherine Elizabeth Halstead)       female  64.0  1      1      112901       26.5500   B26              S           1\n",
              "1206         1         1       White, Mrs. John Stuart (Ella Holmes)                            female  55.0  0      0      PC 17760     135.6333  C32              C           1\n",
              "1218         1         2       Becker, Miss. Ruth Elizabeth                                     female  12.0  2      1      230136       39.0000   F4               S           1\n",
              "1235         1         1       Cardeza, Mrs. James Warburton Martinez (Charlotte Wardle Drake)  female  58.0  0      1      PC 17755     512.3292  B51 B53 B55      C           1\n",
              "1242         1         1       Greenfield, Mrs. Leo David (Blanche Strouse)                     female  45.0  0      1      PC 17759     63.3583   D10 D12          C           1\n",
              "1248         1         1       Brown, Mrs. John Murray (Caroline Lane Lamson)                   female  59.0  2      0      11769        51.4792   C101             S           1\n",
              "1256         1         1       Harder, Mrs. George Achilles (Dorothy Annan)                     female  25.0  1      0      11765        55.4417   E50              C           1\n",
              "1263         1         1       Wilson, Miss. Helen Alice                                        female  31.0  0      0      16966        134.5000  E39 E41          C           1\n",
              "1266         1         1       Dodge, Mrs. Washington (Ruth Vidaver)                            female  54.0  1      1      33638        81.8583   A34              S           1\n",
              "1283         1         1       Lines, Mrs. Ernest H (Elizabeth Lindsey James)                   female  51.0  0      1      PC 17592     39.4000   D28              S           1\n",
              "1287         1         1       Smith, Mrs. Lucien Philip (Mary Eloise Hughes)                   female  18.0  1      0      13695        60.0000   C31              S           1\n",
              "1289         1         1       Frolicher-Stehli, Mrs. Maxmillian (Margaretha Emerentia Stehli)  female  48.0  1      1      13567        79.2000   B41              C           1\n",
              "1292         1         1       Bonnell, Miss. Caroline                                          female  30.0  0      0      36928        164.8667  C7               S           1\n",
              "1303         1         1       Minahan, Mrs. William Edward (Lillian E Thorpe)                  female  37.0  1      0      19928        90.0000   C78              Q           1\n",
              "1076         1         1       Douglas, Mrs. Frederick Charles (Mary Helene Baxter)             female  27.0  1      1      PC 17558     247.5208  B58 B60          C           1\n",
              "1074         1         1       Marvin, Mrs. Daniel Warner (Mary Graham Carmichael Farquarson)   female  18.0  1      0      113773       53.1000   D30              S           1\n",
              "1071         1         1       Compton, Mrs. Alexander Taylor (Mary Eliza Ingersoll)            female  64.0  0      2      PC 17756     83.1583   E45              C           1\n",
              "969          1         1       Cornell, Mrs. Robert Clifford (Malvina Helen Lamson)             female  55.0  2      0      11770        25.7000   C101             S           1\n",
              "916          1         1       Ryerson, Mrs. Arthur Larned (Emily Maria Borie)                  female  48.0  1      3      PC 17608     262.3750  B57 B59 B63 B66  C           1\n",
              "918          1         1       Ostby, Miss. Helene Ragnhild                                     female  22.0  0      1      113509       61.9792   B36              C           1\n",
              "936          1         1       Kimball, Mrs. Edwin Nelson Jr (Gertrude Parsons)                 female  45.0  1      0      11753        52.5542   D19              S           1\n",
              "940          1         1       Bucknell, Mrs. William Robert (Emma Eliza Ward)                  female  60.0  0      0      11813        76.2917   D15              C           1\n",
              "945          1         1       Fortune, Miss. Ethel Flora                                       female  28.0  3      2      19950        263.0000  C23 C25 C27      S           1\n",
              "951          1         1       Chaudanson, Miss. Victorine                                      female  36.0  0      0      PC 17608     262.3750  B61              C           1\n",
              "961          1         1       Fortune, Mrs. Mark (Mary McDougald)                              female  60.0  1      4      19950        263.0000  C23 C25 C27      S           1\n",
              "966          1         1       Geiger, Miss. Amalie                                             female  35.0  0      0      113503       211.5000  C130             C           1\n",
              "984          1         1       Davidson, Mrs. Thornton (Orian Hays)                             female  27.0  1      2      F.C. 12750   52.0000   B71              S           1\n",
              "1070         1         2       Becker, Mrs. Allen Oliver (Nellie E Baumgardner)                 female  36.0  0      3      230136       39.0000   F4               S           1\n",
              "988          1         1       Cavendish, Mrs. Tyrell William (Julia Florence Siegel)           female  76.0  1      0      19877        78.8500   C46              S           1\n",
              "992          1         1       Stengel, Mrs. Charles Emil Henry (Annie May Morris)              female  43.0  1      0      11778        55.4417   C116             C           1\n",
              "1004         1         1       Evans, Miss. Edith Corse                                         female  36.0  0      0      PC 17531     31.6792   A29              C           1\n",
              "1006         1         1       Straus, Mrs. Isidor (Rosalie Ida Blun)                           female  63.0  1      0      PC 17483     221.7792  C55 C57          S           1\n",
              "1009         1         3       Sandstrom, Miss. Beatrice Irene                                  female  1.0   1      1      PP 9549      16.7000   G6               S           1\n",
              "1014         1         1       Schabert, Mrs. Paul (Emma Mock)                                  female  35.0  1      0      13236        57.7500   C28              C           1\n",
              "1042         1         1       Earnshaw, Mrs. Boulton (Olive Potter)                            female  23.0  0      1      11767        83.1583   C54              C           1\n",
              "1048         1         1       Bird, Miss. Ellen                                                female  29.0  0      0      PC 17483     221.7792  C97              S           1\n",
              "1306         1         1       Oliva y Ocana, Dona. Fermina                                     female  39.0  0      0      PC 17758     108.9000  C105             C           1\n",
              "dtype: int64"
            ]
          },
          "metadata": {},
          "execution_count": 14
        }
      ]
    },
    {
      "cell_type": "code",
      "source": [
        "survived_male=df.loc[(df[\"Survived\"]==0) & (df[\"Sex\"]==\"male\")].value_counts()\n",
        "survived_male"
      ],
      "metadata": {
        "colab": {
          "base_uri": "https://localhost:8080/"
        },
        "id": "7VkGaNzvvlwg",
        "outputId": "81bbabef-e41e-4bdb-e5b6-d7bde51ef24b"
      },
      "execution_count": 15,
      "outputs": [
        {
          "output_type": "execute_result",
          "data": {
            "text/plain": [
              "PassengerId  Survived  Pclass  Name                                          Sex   Age   SibSp  Parch  Ticket         Fare      Cabin            Embarked\n",
              "920          0         1       Brady, Mr. John Bertram                       male  41.0  0      0      113054         30.5000   A21              S           1\n",
              "1213         0         3       Krekorian, Mr. Neshan                         male  25.0  0      0      2654           7.2292    F E57            C           1\n",
              "1137         0         1       Kenyon, Mr. Frederick R                       male  41.0  1      0      17464          51.8625   D21              S           1\n",
              "1144         0         1       Clark, Mr. Walter Miller                      male  27.0  1      0      13508          136.7792  C89              C           1\n",
              "1162         0         1       McCaffry, Mr. Thomas Francis                  male  46.0  0      0      13050          75.2417   C6               C           1\n",
              "1179         0         1       Snyder, Mr. John Pillsbury                    male  24.0  1      0      21228          82.2667   B45              S           1\n",
              "1185         0         1       Dodge, Dr. Washington                         male  53.0  1      1      33638          81.8583   A34              S           1\n",
              "1198         0         1       Allison, Mr. Hudson Joshua Creighton          male  30.0  1      2      113781         151.5500  C22 C26          S           1\n",
              "1200         0         1       Hays, Mr. Charles Melville                    male  55.0  1      1      12749          93.5000   B69              S           1\n",
              "1208         0         1       Spencer, Mr. William Augustus                 male  57.0  1      0      PC 17569       146.5208  B78              C           1\n",
              "1214         0         2       Nesson, Mr. Israel                            male  26.0  0      0      244368         13.0000   F2               S           1\n",
              "1128         0         1       Warren, Mr. Frank Manley                      male  64.0  1      0      110813         75.2500   D37              C           1\n",
              "1223         0         1       Dulles, Mr. William Crothers                  male  39.0  0      0      PC 17580       29.7000   A18              C           1\n",
              "1227         0         1       Maguire, Mr. John Edward                      male  30.0  0      0      110469         26.0000   C106             S           1\n",
              "1247         0         1       Julian, Mr. Henry Forbes                      male  50.0  0      0      113044         26.0000   E60              S           1\n",
              "1264         0         1       Ismay, Mr. Joseph Bruce                       male  49.0  0      0      112058         0.0000    B52 B54 B56      S           1\n",
              "1270         0         1       Hipkins, Mr. William Edward                   male  55.0  0      0      680            50.0000   C39              S           1\n",
              "1282         0         1       Payne, Mr. Vivian Ponsonby                    male  23.0  0      0      12749          93.5000   B24              S           1\n",
              "1296         0         1       Frauenthal, Mr. Isaac Gerald                  male  43.0  1      0      17765          27.7208   D40              C           1\n",
              "1297         0         2       Nourney, Mr. Alfred (Baron von Drachstedt\")\"  male  20.0  0      0      SC/PARIS 2166  13.8625   D38              C           1\n",
              "1134         0         1       Spedden, Mr. Frederic Oakley                  male  45.0  1      1      16966          134.5000  E34              C           1\n",
              "1126         0         1       Cumings, Mr. John Bradley                     male  39.0  1      0      PC 17599       71.2833   C85              C           1\n",
              "926          0         1       Mock, Mr. Philipp Edmund                      male  30.0  1      0      13236          57.7500   C78              C           1\n",
              "1001         0         2       Swane, Mr. George                             male  18.5  0      0      248734         13.0000   F                S           1\n",
              "938          0         1       Chevre, Mr. Paul Romaine                      male  45.0  0      0      PC 17594       29.7000   A9               C           1\n",
              "942          0         1       Smith, Mr. Lucien Philip                      male  24.0  1      0      13695          60.0000   C31              S           1\n",
              "949          0         3       Abelseth, Mr. Olaus Jorgensen                 male  25.0  0      0      348122         7.6500    F G63            S           1\n",
              "956          0         1       Ryerson, Master. John Borie                   male  13.0  2      2      PC 17608       262.3750  B57 B59 B63 B66  C           1\n",
              "960          0         1       Tucker, Mr. Gilbert Milligan Jr               male  31.0  0      0      2543           28.5375   C53              C           1\n",
              "965          0         1       Ovies y Rodriguez, Mr. Servando               male  28.5  0      0      PC 17562       27.7208   D43              C           1\n",
              "967          0         1       Keeping, Mr. Edwin                            male  32.5  0      0      113503         211.5000  C132             C           1\n",
              "973          0         1       Straus, Mr. Isidor                            male  67.0  1      0      PC 17483       221.7792  C55 C57          S           1\n",
              "1010         0         1       Beattie, Mr. Thomson                          male  36.0  0      0      13050          75.2417   C6               C           1\n",
              "1107         0         1       Head, Mr. Christopher                         male  42.0  0      0      113038         42.5000   B11              S           1\n",
              "1023         0         1       Gracie, Col. Archibald IV                     male  53.0  0      0      113780         28.5000   C51              C           1\n",
              "1034         0         1       Ryerson, Mr. Arthur Larned                    male  61.0  1      3      PC 17608       262.3750  B57 B59 B63 B66  C           1\n",
              "1050         0         1       Borebank, Mr. John James                      male  42.0  0      0      110489         26.5500   D22              S           1\n",
              "1058         0         1       Brandeis, Mr. Emil                            male  48.0  0      0      PC 17591       50.4958   B10              C           1\n",
              "1069         0         1       Stengel, Mr. Charles Emil Henry               male  54.0  1      0      11778          55.4417   C116             C           1\n",
              "1073         0         1       Compton, Mr. Alexander Taylor Jr              male  37.0  1      1      PC 17756       83.1583   E52              C           1\n",
              "1088         0         1       Spedden, Master. Robert Douglas               male  6.0   0      2      16966          134.5000  E34              C           1\n",
              "1094         0         1       Astor, Col. John Jacob                        male  47.0  1      0      PC 17757       227.5250  C62 C64          C           1\n",
              "1299         0         1       Widener, Mr. George Dunton                    male  50.0  1      1      113503         211.5000  C80              C           1\n",
              "dtype: int64"
            ]
          },
          "metadata": {},
          "execution_count": 15
        }
      ]
    },
    {
      "cell_type": "code",
      "source": [
        "survived_male=df.loc[(df[\"Survived\"]==1) & (df[\"Sex\"]==\"male\")].value_counts()\n",
        "survived_male"
      ],
      "metadata": {
        "colab": {
          "base_uri": "https://localhost:8080/"
        },
        "id": "JhOjzAUbwplN",
        "outputId": "fc905900-9b30-47c2-89c2-8d354e5d520a"
      },
      "execution_count": 16,
      "outputs": [
        {
          "output_type": "execute_result",
          "data": {
            "text/plain": [
              "Series([], dtype: int64)"
            ]
          },
          "metadata": {},
          "execution_count": 16
        }
      ]
    },
    {
      "cell_type": "code",
      "source": [
        "df['age_range'] = pd.cut(df['Age'], bins=[17, 27, 37, 47, 57, 67], labels=['17-27', '28-37', '38-47', '48-57', '58-67'])"
      ],
      "metadata": {
        "id": "NoFhADq103Sk"
      },
      "execution_count": 17,
      "outputs": []
    },
    {
      "cell_type": "code",
      "source": [
        "age_range = df.groupby('age_range')['Age'].count()\n",
        "age_range"
      ],
      "metadata": {
        "colab": {
          "base_uri": "https://localhost:8080/"
        },
        "id": "isZAM5iZ41k_",
        "outputId": "e345580f-6a0e-4bc0-875d-f51b95a170c1"
      },
      "execution_count": 18,
      "outputs": [
        {
          "output_type": "execute_result",
          "data": {
            "text/plain": [
              "age_range\n",
              "17-27    126\n",
              "28-37     73\n",
              "38-47     48\n",
              "48-57     28\n",
              "58-67     15\n",
              "Name: Age, dtype: int64"
            ]
          },
          "metadata": {},
          "execution_count": 18
        }
      ]
    },
    {
      "cell_type": "code",
      "source": [
        "df['age_range'].dtype"
      ],
      "metadata": {
        "colab": {
          "base_uri": "https://localhost:8080/"
        },
        "id": "HMbnGhvpBctq",
        "outputId": "8c42ccb7-7379-48ea-d4e8-ebd63c795e19"
      },
      "execution_count": 19,
      "outputs": [
        {
          "output_type": "execute_result",
          "data": {
            "text/plain": [
              "CategoricalDtype(categories=['17-27', '28-37', '38-47', '48-57', '58-67'], ordered=True)"
            ]
          },
          "metadata": {},
          "execution_count": 19
        }
      ]
    },
    {
      "cell_type": "code",
      "source": [
        "age_survived_female=df.loc[df[\"Survived\"]==1][\"age_range\"]\n",
        "age_survived_female"
      ],
      "metadata": {
        "colab": {
          "base_uri": "https://localhost:8080/"
        },
        "id": "sW51SL3j6MXR",
        "outputId": "aa58a49d-85b3-4adc-bdfd-c4ed4e9e1095"
      },
      "execution_count": 20,
      "outputs": [
        {
          "output_type": "execute_result",
          "data": {
            "text/plain": [
              "1      38-47\n",
              "4      17-27\n",
              "6      28-37\n",
              "8      17-27\n",
              "12     17-27\n",
              "       ...  \n",
              "409      NaN\n",
              "410      NaN\n",
              "411    28-37\n",
              "412    28-37\n",
              "414    38-47\n",
              "Name: age_range, Length: 152, dtype: category\n",
              "Categories (5, object): ['17-27' < '28-37' < '38-47' < '48-57' < '58-67']"
            ]
          },
          "metadata": {},
          "execution_count": 20
        }
      ]
    },
    {
      "cell_type": "code",
      "source": [
        "age_survived_female=age_survived_female.dropna()\n",
        "age_survived_female"
      ],
      "metadata": {
        "colab": {
          "base_uri": "https://localhost:8080/"
        },
        "id": "pkFJAAUP-Yf6",
        "outputId": "9ed4db25-0468-4dbb-a2d3-5ab65c8f7daa"
      },
      "execution_count": 21,
      "outputs": [
        {
          "output_type": "execute_result",
          "data": {
            "text/plain": [
              "1      38-47\n",
              "4      17-27\n",
              "6      28-37\n",
              "8      17-27\n",
              "12     17-27\n",
              "       ...  \n",
              "400    28-37\n",
              "402    17-27\n",
              "411    28-37\n",
              "412    28-37\n",
              "414    38-47\n",
              "Name: age_range, Length: 109, dtype: category\n",
              "Categories (5, object): ['17-27' < '28-37' < '38-47' < '48-57' < '58-67']"
            ]
          },
          "metadata": {},
          "execution_count": 21
        }
      ]
    },
    {
      "cell_type": "code",
      "source": [
        "labels=['17-27', '28-37', '38-47', '48-57', '58-67']\n",
        "plt.pie(age_range, labels = labels)\n",
        "plt.title('Range of age')\n",
        "plt.show()"
      ],
      "metadata": {
        "colab": {
          "base_uri": "https://localhost:8080/",
          "height": 428
        },
        "id": "CtEYyyK4xQPT",
        "outputId": "cc7c5b67-b298-4d5c-d324-a35c31503c4e"
      },
      "execution_count": 22,
      "outputs": [
        {
          "output_type": "display_data",
          "data": {
            "text/plain": [
              "<Figure size 640x480 with 1 Axes>"
            ],
            "image/png": "[encoded data removed]"
          },
          "metadata": {}
        }
      ]
    },
    {
      "cell_type": "code",
      "source": [
        "Embarked_Q=df[(df[\"Embarked\"]==\"Q\") & df[\"Survived\"]==1].value_counts().count()"
      ],
      "metadata": {
        "id": "h2rD057dXKot"
      },
      "execution_count": 23,
      "outputs": []
    },
    {
      "cell_type": "code",
      "source": [
        "Embarked_S=df[(df[\"Embarked\"]==\"S\") & df[\"Survived\"]==1].value_counts().count()"
      ],
      "metadata": {
        "id": "ADJWe8fyXl2r"
      },
      "execution_count": 24,
      "outputs": []
    },
    {
      "cell_type": "code",
      "source": [
        "Embarked_C=df[(df[\"Embarked\"]==\"C\") & df[\"Survived\"]==1].value_counts().count()"
      ],
      "metadata": {
        "id": "9rnlXJeEXsWt"
      },
      "execution_count": 25,
      "outputs": []
    },
    {
      "cell_type": "code",
      "source": [
        "embarked=[Embarked_Q,Embarked_S,Embarked_C]\n",
        "labels=['Q','S','C']\n",
        "plt.pie(embarked, labels = labels)\n",
        "plt.title('Survived Embarked')\n",
        "plt.show()"
      ],
      "metadata": {
        "colab": {
          "base_uri": "https://localhost:8080/",
          "height": 428
        },
        "id": "WhXZId4ST41g",
        "outputId": "fc1c4818-8a46-42a6-b6e3-2b965197fd61"
      },
      "execution_count": 26,
      "outputs": [
        {
          "output_type": "display_data",
          "data": {
            "text/plain": [
              "<Figure size 640x480 with 1 Axes>"
            ],
            "image/png": "[encoded data removed]"
          },
          "metadata": {}
        }
      ]
    },
    {
      "cell_type": "code",
      "source": [
        "pclass1=df[(df[\"Pclass\"]==1) & df[\"Survived\"]==1].value_counts().count()"
      ],
      "metadata": {
        "id": "8YTCnACGhgh1"
      },
      "execution_count": 27,
      "outputs": []
    },
    {
      "cell_type": "code",
      "source": [
        "pclass2=df[(df[\"Pclass\"]==2) & df[\"Survived\"]==1].value_counts().count()"
      ],
      "metadata": {
        "id": "n5LNC2yiiV9R"
      },
      "execution_count": 28,
      "outputs": []
    },
    {
      "cell_type": "code",
      "source": [
        "pclass3=df[(df[\"Pclass\"]==3) & df[\"Survived\"]==1].value_counts().count()"
      ],
      "metadata": {
        "id": "J9yVW31ZibRE"
      },
      "execution_count": 29,
      "outputs": []
    },
    {
      "cell_type": "code",
      "source": [
        "survived=df[df[\"Survived\"]==1].value_counts().count()"
      ],
      "metadata": {
        "id": "5IZQ-luAkhIH"
      },
      "execution_count": 30,
      "outputs": []
    },
    {
      "cell_type": "code",
      "source": [
        "pclass=[pclass1,pclass2,pclass3]\n",
        "labels=['1','2','3']\n",
        "plt.bar(labels, pclass)\n",
        "plt.title('survived pclass')\n",
        "plt.xlabel('pclass')\n",
        "plt.ylabel('Survived')\n",
        "plt.show()"
      ],
      "metadata": {
        "colab": {
          "base_uri": "https://localhost:8080/",
          "height": 472
        },
        "id": "sjr6UhAMifAN",
        "outputId": "4ebf2b23-91e1-4677-a038-5a0bffadf0bf"
      },
      "execution_count": 31,
      "outputs": [
        {
          "output_type": "display_data",
          "data": {
            "text/plain": [
              "<Figure size 640x480 with 1 Axes>"
            ],
            "image/png": "[encoded data removed]"
          },
          "metadata": {}
        }
      ]
    },
    {
      "cell_type": "code",
      "source": [
        "pclass1=df[(df[\"Pclass\"]==1) & df[\"Survived\"]==0].value_counts().count()"
      ],
      "metadata": {
        "id": "qy3wP5nanF-d"
      },
      "execution_count": 32,
      "outputs": []
    },
    {
      "cell_type": "code",
      "source": [
        "pclass2=df[(df[\"Pclass\"]==2) & df[\"Survived\"]==0].value_counts().count()"
      ],
      "metadata": {
        "id": "JiXDQrD0nLYp"
      },
      "execution_count": 33,
      "outputs": []
    },
    {
      "cell_type": "code",
      "source": [
        "pclass3=df[(df[\"Pclass\"]==3) & df[\"Survived\"]==0].value_counts().count()"
      ],
      "metadata": {
        "id": "ZIsseZ4PnR0S"
      },
      "execution_count": 34,
      "outputs": []
    },
    {
      "cell_type": "code",
      "source": [
        "pclass=[pclass1,pclass2,pclass3]\n",
        "labels=['1','2','3']\n",
        "plt.bar(labels, pclass)\n",
        "plt.title('unsurvived pclass')\n",
        "plt.xlabel('pclass')\n",
        "plt.ylabel('unSurvived')\n",
        "plt.show()"
      ],
      "metadata": {
        "colab": {
          "base_uri": "https://localhost:8080/",
          "height": 472
        },
        "id": "Al7el_y1nVgp",
        "outputId": "cf7f2af2-c328-4184-8d3f-3eb236b97d4d"
      },
      "execution_count": 35,
      "outputs": [
        {
          "output_type": "display_data",
          "data": {
            "text/plain": [
              "<Figure size 640x480 with 1 Axes>"
            ],
            "image/png": "[encoded data removed]"
          },
          "metadata": {}
        }
      ]
    },
    {
      "cell_type": "code",
      "source": [
        "correlation_matrix = df.corr().round(2)\n",
        "\n",
        "sns.set(rc={'figure.figsize':(11.7,8.27)})\n",
        "sns.heatmap(data=correlation_matrix, annot=True)"
      ],
      "metadata": {
        "colab": {
          "base_uri": "https://localhost:8080/",
          "height": 779
        },
        "id": "1nUGSJgFoXQZ",
        "outputId": "cf5c4c18-17f6-4538-f095-c8b2c4ae25a9"
      },
      "execution_count": 36,
      "outputs": [
        {
          "output_type": "stream",
          "name": "stderr",
          "text": [
            "<ipython-input-36-82be490feaeb>:1: FutureWarning: The default value of numeric_only in DataFrame.corr is deprecated. In a future version, it will default to False. Select only valid columns or specify the value of numeric_only to silence this warning.\n",
            "  correlation_matrix = df.corr().round(2)\n"
          ]
        },
        {
          "output_type": "execute_result",
          "data": {
            "text/plain": [
              "<Axes: >"
            ]
          },
          "metadata": {},
          "execution_count": 36
        },
        {
          "output_type": "display_data",
          "data": {
            "text/plain": [
              "<Figure size 1170x827 with 2 Axes>"
            ],
            "image/png": "[encoded data removed]"
          },
          "metadata": {}
        }
      ]
    },
    {
      "cell_type": "code",
      "source": [
        "df=df.dropna()"
      ],
      "metadata": {
        "id": "qzk5ORRoqXoe"
      },
      "execution_count": 37,
      "outputs": []
    },
    {
      "cell_type": "code",
      "source": [
        "df"
      ],
      "metadata": {
        "colab": {
          "base_uri": "https://localhost:8080/",
          "height": 510
        },
        "id": "2eCPt-NCqif6",
        "outputId": "35a62a22-53c0-46be-ab17-353c082d9106"
      },
      "execution_count": 38,
      "outputs": [
        {
          "output_type": "execute_result",
          "data": {
            "text/plain": [
              "     PassengerId  Survived  Pclass  \\\n",
              "12           904         1       1   \n",
              "14           906         1       1   \n",
              "24           916         1       1   \n",
              "26           918         1       1   \n",
              "28           920         0       1   \n",
              "..           ...       ...     ...   \n",
              "404         1296         0       1   \n",
              "405         1297         0       2   \n",
              "407         1299         0       1   \n",
              "411         1303         1       1   \n",
              "414         1306         1       1   \n",
              "\n",
              "                                                  Name     Sex   Age  SibSp  \\\n",
              "12       Snyder, Mrs. John Pillsbury (Nelle Stevenson)  female  23.0      1   \n",
              "14   Chaffee, Mrs. Herbert Fuller (Carrie Constance...  female  47.0      1   \n",
              "24     Ryerson, Mrs. Arthur Larned (Emily Maria Borie)  female  48.0      1   \n",
              "26                        Ostby, Miss. Helene Ragnhild  female  22.0      0   \n",
              "28                             Brady, Mr. John Bertram    male  41.0      0   \n",
              "..                                                 ...     ...   ...    ...   \n",
              "404                       Frauenthal, Mr. Isaac Gerald    male  43.0      1   \n",
              "405       Nourney, Mr. Alfred (Baron von Drachstedt\")\"    male  20.0      0   \n",
              "407                         Widener, Mr. George Dunton    male  50.0      1   \n",
              "411    Minahan, Mrs. William Edward (Lillian E Thorpe)  female  37.0      1   \n",
              "414                       Oliva y Ocana, Dona. Fermina  female  39.0      0   \n",
              "\n",
              "     Parch         Ticket      Fare            Cabin Embarked age_range  \n",
              "12       0          21228   82.2667              B45        S     17-27  \n",
              "14       0    W.E.P. 5734   61.1750              E31        S     38-47  \n",
              "24       3       PC 17608  262.3750  B57 B59 B63 B66        C     48-57  \n",
              "26       1         113509   61.9792              B36        C     17-27  \n",
              "28       0         113054   30.5000              A21        S     38-47  \n",
              "..     ...            ...       ...              ...      ...       ...  \n",
              "404      0          17765   27.7208              D40        C     38-47  \n",
              "405      0  SC/PARIS 2166   13.8625              D38        C     17-27  \n",
              "407      1         113503  211.5000              C80        C     48-57  \n",
              "411      0          19928   90.0000              C78        Q     28-37  \n",
              "414      0       PC 17758  108.9000             C105        C     38-47  \n",
              "\n",
              "[82 rows x 13 columns]"
            ],
            "text/html": [
              "\n",
              "  <div id=\"df-14e9fc55-df2e-4284-b6bf-9f13d315cf76\" class=\"colab-df-container\">\n",
              "    <div>\n",
              "<style scoped>\n",
              "    .dataframe tbody tr th:only-of-type {\n",
              "        vertical-align: middle;\n",
              "    }\n",
              "\n",
              "    .dataframe tbody tr th {\n",
              "        vertical-align: top;\n",
              "    }\n",
              "\n",
              "    .dataframe thead th {\n",
              "        text-align: right;\n",
              "    }\n",
              "</style>\n",
              "<table border=\"1\" class=\"dataframe\">\n",
              "  <thead>\n",
              "    <tr style=\"text-align: right;\">\n",
              "      <th></th>\n",
              "      <th>PassengerId</th>\n",
              "      <th>Survived</th>\n",
              "      <th>Pclass</th>\n",
              "      <th>Name</th>\n",
              "      <th>Sex</th>\n",
              "      <th>Age</th>\n",
              "      <th>SibSp</th>\n",
              "      <th>Parch</th>\n",
              "      <th>Ticket</th>\n",
              "      <th>Fare</th>\n",
              "      <th>Cabin</th>\n",
              "      <th>Embarked</th>\n",
              "      <th>age_range</th>\n",
              "    </tr>\n",
              "  </thead>\n",
              "  <tbody>\n",
              "    <tr>\n",
              "      <th>12</th>\n",
              "      <td>904</td>\n",
              "      <td>1</td>\n",
              "      <td>1</td>\n",
              "      <td>Snyder, Mrs. John Pillsbury (Nelle Stevenson)</td>\n",
              "      <td>female</td>\n",
              "      <td>23.0</td>\n",
              "      <td>1</td>\n",
              "      <td>0</td>\n",
              "      <td>21228</td>\n",
              "      <td>82.2667</td>\n",
              "      <td>B45</td>\n",
              "      <td>S</td>\n",
              "      <td>17-27</td>\n",
              "    </tr>\n",
              "    <tr>\n",
              "      <th>14</th>\n",
              "      <td>906</td>\n",
              "      <td>1</td>\n",
              "      <td>1</td>\n",
              "      <td>Chaffee, Mrs. Herbert Fuller (Carrie Constance...</td>\n",
              "      <td>female</td>\n",
              "      <td>47.0</td>\n",
              "      <td>1</td>\n",
              "      <td>0</td>\n",
              "      <td>W.E.P. 5734</td>\n",
              "      <td>61.1750</td>\n",
              "      <td>E31</td>\n",
              "      <td>S</td>\n",
              "      <td>38-47</td>\n",
              "    </tr>\n",
              "    <tr>\n",
              "      <th>24</th>\n",
              "      <td>916</td>\n",
              "      <td>1</td>\n",
              "      <td>1</td>\n",
              "      <td>Ryerson, Mrs. Arthur Larned (Emily Maria Borie)</td>\n",
              "      <td>female</td>\n",
              "      <td>48.0</td>\n",
              "      <td>1</td>\n",
              "      <td>3</td>\n",
              "      <td>PC 17608</td>\n",
              "      <td>262.3750</td>\n",
              "      <td>B57 B59 B63 B66</td>\n",
              "      <td>C</td>\n",
              "      <td>48-57</td>\n",
              "    </tr>\n",
              "    <tr>\n",
              "      <th>26</th>\n",
              "      <td>918</td>\n",
              "      <td>1</td>\n",
              "      <td>1</td>\n",
              "      <td>Ostby, Miss. Helene Ragnhild</td>\n",
              "      <td>female</td>\n",
              "      <td>22.0</td>\n",
              "      <td>0</td>\n",
              "      <td>1</td>\n",
              "      <td>113509</td>\n",
              "      <td>61.9792</td>\n",
              "      <td>B36</td>\n",
              "      <td>C</td>\n",
              "      <td>17-27</td>\n",
              "    </tr>\n",
              "    <tr>\n",
              "      <th>28</th>\n",
              "      <td>920</td>\n",
              "      <td>0</td>\n",
              "      <td>1</td>\n",
              "      <td>Brady, Mr. John Bertram</td>\n",
              "      <td>male</td>\n",
              "      <td>41.0</td>\n",
              "      <td>0</td>\n",
              "      <td>0</td>\n",
              "      <td>113054</td>\n",
              "      <td>30.5000</td>\n",
              "      <td>A21</td>\n",
              "      <td>S</td>\n",
              "      <td>38-47</td>\n",
              "    </tr>\n",
              "    <tr>\n",
              "      <th>...</th>\n",
              "      <td>...</td>\n",
              "      <td>...</td>\n",
              "      <td>...</td>\n",
              "      <td>...</td>\n",
              "      <td>...</td>\n",
              "      <td>...</td>\n",
              "      <td>...</td>\n",
              "      <td>...</td>\n",
              "      <td>...</td>\n",
              "      <td>...</td>\n",
              "      <td>...</td>\n",
              "      <td>...</td>\n",
              "      <td>...</td>\n",
              "    </tr>\n",
              "    <tr>\n",
              "      <th>404</th>\n",
              "      <td>1296</td>\n",
              "      <td>0</td>\n",
              "      <td>1</td>\n",
              "      <td>Frauenthal, Mr. Isaac Gerald</td>\n",
              "      <td>male</td>\n",
              "      <td>43.0</td>\n",
              "      <td>1</td>\n",
              "      <td>0</td>\n",
              "      <td>17765</td>\n",
              "      <td>27.7208</td>\n",
              "      <td>D40</td>\n",
              "      <td>C</td>\n",
              "      <td>38-47</td>\n",
              "    </tr>\n",
              "    <tr>\n",
              "      <th>405</th>\n",
              "      <td>1297</td>\n",
              "      <td>0</td>\n",
              "      <td>2</td>\n",
              "      <td>Nourney, Mr. Alfred (Baron von Drachstedt\")\"</td>\n",
              "      <td>male</td>\n",
              "      <td>20.0</td>\n",
              "      <td>0</td>\n",
              "      <td>0</td>\n",
              "      <td>SC/PARIS 2166</td>\n",
              "      <td>13.8625</td>\n",
              "      <td>D38</td>\n",
              "      <td>C</td>\n",
              "      <td>17-27</td>\n",
              "    </tr>\n",
              "    <tr>\n",
              "      <th>407</th>\n",
              "      <td>1299</td>\n",
              "      <td>0</td>\n",
              "      <td>1</td>\n",
              "      <td>Widener, Mr. George Dunton</td>\n",
              "      <td>male</td>\n",
              "      <td>50.0</td>\n",
              "      <td>1</td>\n",
              "      <td>1</td>\n",
              "      <td>113503</td>\n",
              "      <td>211.5000</td>\n",
              "      <td>C80</td>\n",
              "      <td>C</td>\n",
              "      <td>48-57</td>\n",
              "    </tr>\n",
              "    <tr>\n",
              "      <th>411</th>\n",
              "      <td>1303</td>\n",
              "      <td>1</td>\n",
              "      <td>1</td>\n",
              "      <td>Minahan, Mrs. William Edward (Lillian E Thorpe)</td>\n",
              "      <td>female</td>\n",
              "      <td>37.0</td>\n",
              "      <td>1</td>\n",
              "      <td>0</td>\n",
              "      <td>19928</td>\n",
              "      <td>90.0000</td>\n",
              "      <td>C78</td>\n",
              "      <td>Q</td>\n",
              "      <td>28-37</td>\n",
              "    </tr>\n",
              "    <tr>\n",
              "      <th>414</th>\n",
              "      <td>1306</td>\n",
              "      <td>1</td>\n",
              "      <td>1</td>\n",
              "      <td>Oliva y Ocana, Dona. Fermina</td>\n",
              "      <td>female</td>\n",
              "      <td>39.0</td>\n",
              "      <td>0</td>\n",
              "      <td>0</td>\n",
              "      <td>PC 17758</td>\n",
              "      <td>108.9000</td>\n",
              "      <td>C105</td>\n",
              "      <td>C</td>\n",
              "      <td>38-47</td>\n",
              "    </tr>\n",
              "  </tbody>\n",
              "</table>\n",
              "<p>82 rows × 13 columns</p>\n",
              "</div>\n",
              "    <div class=\"colab-df-buttons\">\n",
              "\n",
              "  <div class=\"colab-df-container\">\n",
              "    <button class=\"colab-df-convert\" onclick=\"convertToInteractive('df-14e9fc55-df2e-4284-b6bf-9f13d315cf76')\"\n",
              "            title=\"Convert this dataframe to an interactive table.\"\n",
              "            style=\"display:none;\">\n",
              "\n",
              "  <svg xmlns=\"http://www.w3.org/2000/svg\" height=\"24px\" viewBox=\"0 -960 960 960\">\n",
              "    <path d=\"M120-120v-720h720v720H120Zm60-500h600v-160H180v160Zm220 220h160v-160H400v160Zm0 220h160v-160H400v160ZM180-400h160v-160H180v160Zm440 0h160v-160H620v160ZM180-180h160v-160H180v160Zm440 0h160v-160H620v160Z\"/>\n",
              "  </svg>\n",
              "    </button>\n",
              "\n",
              "  <style>\n",
              "    .colab-df-container {\n",
              "      display:flex;\n",
              "      gap: 12px;\n",
              "    }\n",
              "\n",
              "    .colab-df-convert {\n",
              "      background-color: #E8F0FE;\n",
              "      border: none;\n",
              "      border-radius: 50%;\n",
              "      cursor: pointer;\n",
              "      display: none;\n",
              "      fill: #1967D2;\n",
              "      height: 32px;\n",
              "      padding: 0 0 0 0;\n",
              "      width: 32px;\n",
              "    }\n",
              "\n",
              "    .colab-df-convert:hover {\n",
              "      background-color: #E2EBFA;\n",
              "      box-shadow: 0px 1px 2px rgba(60, 64, 67, 0.3), 0px 1px 3px 1px rgba(60, 64, 67, 0.15);\n",
              "      fill: #174EA6;\n",
              "    }\n",
              "\n",
              "    .colab-df-buttons div {\n",
              "      margin-bottom: 4px;\n",
              "    }\n",
              "\n",
              "    [theme=dark] .colab-df-convert {\n",
              "      background-color: #3B4455;\n",
              "      fill: #D2E3FC;\n",
              "    }\n",
              "\n",
              "    [theme=dark] .colab-df-convert:hover {\n",
              "      background-color: #434B5C;\n",
              "      box-shadow: 0px 1px 3px 1px rgba(0, 0, 0, 0.15);\n",
              "      filter: drop-shadow(0px 1px 2px rgba(0, 0, 0, 0.3));\n",
              "      fill: #FFFFFF;\n",
              "    }\n",
              "  </style>\n",
              "\n",
              "    <script>\n",
              "      const buttonEl =\n",
              "        document.querySelector('#df-14e9fc55-df2e-4284-b6bf-9f13d315cf76 button.colab-df-convert');\n",
              "      buttonEl.style.display =\n",
              "        google.colab.kernel.accessAllowed ? 'block' : 'none';\n",
              "\n",
              "      async function convertToInteractive(key) {\n",
              "        const element = document.querySelector('#df-14e9fc55-df2e-4284-b6bf-9f13d315cf76');\n",
              "        const dataTable =\n",
              "          await google.colab.kernel.invokeFunction('convertToInteractive',\n",
              "                                                    [key], {});\n",
              "        if (!dataTable) return;\n",
              "\n",
              "        const docLinkHtml = 'Like what you see? Visit the ' +\n",
              "          '<a target=\"_blank\" href=https://colab.research.google.com/notebooks/data_table.ipynb>data table notebook</a>'\n",
              "          + ' to learn more about interactive tables.';\n",
              "        element.innerHTML = '';\n",
              "        dataTable['output_type'] = 'display_data';\n",
              "        await google.colab.output.renderOutput(dataTable, element);\n",
              "        const docLink = document.createElement('div');\n",
              "        docLink.innerHTML = docLinkHtml;\n",
              "        element.appendChild(docLink);\n",
              "      }\n",
              "    </script>\n",
              "  </div>\n",
              "\n",
              "\n",
              "<div id=\"df-9b92b8e6-7ffd-4107-a117-3f3a0f67d12c\">\n",
              "  <button class=\"colab-df-quickchart\" onclick=\"quickchart('df-9b92b8e6-7ffd-4107-a117-3f3a0f67d12c')\"\n",
              "            title=\"Suggest charts.\"\n",
              "            style=\"display:none;\">\n",
              "\n",
              "<svg xmlns=\"http://www.w3.org/2000/svg\" height=\"24px\"viewBox=\"0 0 24 24\"\n",
              "     width=\"24px\">\n",
              "    <g>\n",
              "        <path d=\"M19 3H5c-1.1 0-2 .9-2 2v14c0 1.1.9 2 2 2h14c1.1 0 2-.9 2-2V5c0-1.1-.9-2-2-2zM9 17H7v-7h2v7zm4 0h-2V7h2v10zm4 0h-2v-4h2v4z\"/>\n",
              "    </g>\n",
              "</svg>\n",
              "  </button>\n",
              "\n",
              "<style>\n",
              "  .colab-df-quickchart {\n",
              "      --bg-color: #E8F0FE;\n",
              "      --fill-color: #1967D2;\n",
              "      --hover-bg-color: #E2EBFA;\n",
              "      --hover-fill-color: #174EA6;\n",
              "      --disabled-fill-color: #AAA;\n",
              "      --disabled-bg-color: #DDD;\n",
              "  }\n",
              "\n",
              "  [theme=dark] .colab-df-quickchart {\n",
              "      --bg-color: #3B4455;\n",
              "      --fill-color: #D2E3FC;\n",
              "      --hover-bg-color: #434B5C;\n",
              "      --hover-fill-color: #FFFFFF;\n",
              "      --disabled-bg-color: #3B4455;\n",
              "      --disabled-fill-color: #666;\n",
              "  }\n",
              "\n",
              "  .colab-df-quickchart {\n",
              "    background-color: var(--bg-color);\n",
              "    border: none;\n",
              "    border-radius: 50%;\n",
              "    cursor: pointer;\n",
              "    display: none;\n",
              "    fill: var(--fill-color);\n",
              "    height: 32px;\n",
              "    padding: 0;\n",
              "    width: 32px;\n",
              "  }\n",
              "\n",
              "  .colab-df-quickchart:hover {\n",
              "    background-color: var(--hover-bg-color);\n",
              "    box-shadow: 0 1px 2px rgba(60, 64, 67, 0.3), 0 1px 3px 1px rgba(60, 64, 67, 0.15);\n",
              "    fill: var(--button-hover-fill-color);\n",
              "  }\n",
              "\n",
              "  .colab-df-quickchart-complete:disabled,\n",
              "  .colab-df-quickchart-complete:disabled:hover {\n",
              "    background-color: var(--disabled-bg-color);\n",
              "    fill: var(--disabled-fill-color);\n",
              "    box-shadow: none;\n",
              "  }\n",
              "\n",
              "  .colab-df-spinner {\n",
              "    border: 2px solid var(--fill-color);\n",
              "    border-color: transparent;\n",
              "    border-bottom-color: var(--fill-color);\n",
              "    animation:\n",
              "      spin 1s steps(1) infinite;\n",
              "  }\n",
              "\n",
              "  @keyframes spin {\n",
              "    0% {\n",
              "      border-color: transparent;\n",
              "      border-bottom-color: var(--fill-color);\n",
              "      border-left-color: var(--fill-color);\n",
              "    }\n",
              "    20% {\n",
              "      border-color: transparent;\n",
              "      border-left-color: var(--fill-color);\n",
              "      border-top-color: var(--fill-color);\n",
              "    }\n",
              "    30% {\n",
              "      border-color: transparent;\n",
              "      border-left-color: var(--fill-color);\n",
              "      border-top-color: var(--fill-color);\n",
              "      border-right-color: var(--fill-color);\n",
              "    }\n",
              "    40% {\n",
              "      border-color: transparent;\n",
              "      border-right-color: var(--fill-color);\n",
              "      border-top-color: var(--fill-color);\n",
              "    }\n",
              "    60% {\n",
              "      border-color: transparent;\n",
              "      border-right-color: var(--fill-color);\n",
              "    }\n",
              "    80% {\n",
              "      border-color: transparent;\n",
              "      border-right-color: var(--fill-color);\n",
              "      border-bottom-color: var(--fill-color);\n",
              "    }\n",
              "    90% {\n",
              "      border-color: transparent;\n",
              "      border-bottom-color: var(--fill-color);\n",
              "    }\n",
              "  }\n",
              "</style>\n",
              "\n",
              "  <script>\n",
              "    async function quickchart(key) {\n",
              "      const quickchartButtonEl =\n",
              "        document.querySelector('#' + key + ' button');\n",
              "      quickchartButtonEl.disabled = true;  // To prevent multiple clicks.\n",
              "      quickchartButtonEl.classList.add('colab-df-spinner');\n",
              "      try {\n",
              "        const charts = await google.colab.kernel.invokeFunction(\n",
              "            'suggestCharts', [key], {});\n",
              "      } catch (error) {\n",
              "        console.error('Error during call to suggestCharts:', error);\n",
              "      }\n",
              "      quickchartButtonEl.classList.remove('colab-df-spinner');\n",
              "      quickchartButtonEl.classList.add('colab-df-quickchart-complete');\n",
              "    }\n",
              "    (() => {\n",
              "      let quickchartButtonEl =\n",
              "        document.querySelector('#df-9b92b8e6-7ffd-4107-a117-3f3a0f67d12c button');\n",
              "      quickchartButtonEl.style.display =\n",
              "        google.colab.kernel.accessAllowed ? 'block' : 'none';\n",
              "    })();\n",
              "  </script>\n",
              "</div>\n",
              "    </div>\n",
              "  </div>\n"
            ]
          },
          "metadata": {},
          "execution_count": 38
        }
      ]
    },
    {
      "cell_type": "code",
      "source": [
        "df['Embarked'] = df['Embarked'].astype('category')\n",
        "df[\"Embarked\"] = df[\"Embarked\"].cat.codes"
      ],
      "metadata": {
        "colab": {
          "base_uri": "https://localhost:8080/"
        },
        "id": "sNqW84rppp9f",
        "outputId": "b4820787-3464-4d9e-ae55-7f1fb272f484"
      },
      "execution_count": 39,
      "outputs": [
        {
          "output_type": "stream",
          "name": "stderr",
          "text": [
            "<ipython-input-39-9ddfebdd82e0>:1: SettingWithCopyWarning: \n",
            "A value is trying to be set on a copy of a slice from a DataFrame.\n",
            "Try using .loc[row_indexer,col_indexer] = value instead\n",
            "\n",
            "See the caveats in the documentation: https://pandas.pydata.org/pandas-docs/stable/user_guide/indexing.html#returning-a-view-versus-a-copy\n",
            "  df['Embarked'] = df['Embarked'].astype('category')\n",
            "<ipython-input-39-9ddfebdd82e0>:2: SettingWithCopyWarning: \n",
            "A value is trying to be set on a copy of a slice from a DataFrame.\n",
            "Try using .loc[row_indexer,col_indexer] = value instead\n",
            "\n",
            "See the caveats in the documentation: https://pandas.pydata.org/pandas-docs/stable/user_guide/indexing.html#returning-a-view-versus-a-copy\n",
            "  df[\"Embarked\"] = df[\"Embarked\"].cat.codes\n"
          ]
        }
      ]
    },
    {
      "cell_type": "code",
      "source": [
        "df['Sex'] = df['Sex'].astype('category')\n",
        "df[\"Sex\"] = df[\"Sex\"].cat.codes"
      ],
      "metadata": {
        "colab": {
          "base_uri": "https://localhost:8080/"
        },
        "id": "ErFsQy2jpyJP",
        "outputId": "004e6746-8909-4e47-df92-7d5f95ad9405"
      },
      "execution_count": 40,
      "outputs": [
        {
          "output_type": "stream",
          "name": "stderr",
          "text": [
            "<ipython-input-40-555c832f0ac1>:1: SettingWithCopyWarning: \n",
            "A value is trying to be set on a copy of a slice from a DataFrame.\n",
            "Try using .loc[row_indexer,col_indexer] = value instead\n",
            "\n",
            "See the caveats in the documentation: https://pandas.pydata.org/pandas-docs/stable/user_guide/indexing.html#returning-a-view-versus-a-copy\n",
            "  df['Sex'] = df['Sex'].astype('category')\n",
            "<ipython-input-40-555c832f0ac1>:2: SettingWithCopyWarning: \n",
            "A value is trying to be set on a copy of a slice from a DataFrame.\n",
            "Try using .loc[row_indexer,col_indexer] = value instead\n",
            "\n",
            "See the caveats in the documentation: https://pandas.pydata.org/pandas-docs/stable/user_guide/indexing.html#returning-a-view-versus-a-copy\n",
            "  df[\"Sex\"] = df[\"Sex\"].cat.codes\n"
          ]
        }
      ]
    },
    {
      "cell_type": "code",
      "source": [
        "df['Pclass'] = df['Pclass'].astype('category')\n",
        "df[\"Pclass\"] = df[\"Pclass\"].cat.codes"
      ],
      "metadata": {
        "colab": {
          "base_uri": "https://localhost:8080/"
        },
        "id": "UjmNpH7Ip4P1",
        "outputId": "69d3b661-c0cb-4c97-e729-1f7fef9f390f"
      },
      "execution_count": 41,
      "outputs": [
        {
          "output_type": "stream",
          "name": "stderr",
          "text": [
            "<ipython-input-41-1f9554331f41>:1: SettingWithCopyWarning: \n",
            "A value is trying to be set on a copy of a slice from a DataFrame.\n",
            "Try using .loc[row_indexer,col_indexer] = value instead\n",
            "\n",
            "See the caveats in the documentation: https://pandas.pydata.org/pandas-docs/stable/user_guide/indexing.html#returning-a-view-versus-a-copy\n",
            "  df['Pclass'] = df['Pclass'].astype('category')\n",
            "<ipython-input-41-1f9554331f41>:2: SettingWithCopyWarning: \n",
            "A value is trying to be set on a copy of a slice from a DataFrame.\n",
            "Try using .loc[row_indexer,col_indexer] = value instead\n",
            "\n",
            "See the caveats in the documentation: https://pandas.pydata.org/pandas-docs/stable/user_guide/indexing.html#returning-a-view-versus-a-copy\n",
            "  df[\"Pclass\"] = df[\"Pclass\"].cat.codes\n"
          ]
        }
      ]
    },
    {
      "cell_type": "code",
      "source": [
        "y = df['Survived']\n",
        "x = df[['Embarked', 'Age','Sex','Pclass','Fare']]\n",
        "x_train, x_test, y_train, y_test = train_test_split(x, y, test_size=0.3, random_state=None)"
      ],
      "metadata": {
        "id": "pQyj_EHWfUBi"
      },
      "execution_count": 42,
      "outputs": []
    },
    {
      "cell_type": "code",
      "source": [
        "model = linear_model.LogisticRegression().fit(x_train, y_train)"
      ],
      "metadata": {
        "id": "uPskqDJ3heRi"
      },
      "execution_count": 43,
      "outputs": []
    },
    {
      "cell_type": "code",
      "source": [
        "Y_pred = model.predict(x_train)\n",
        "Y_pred"
      ],
      "metadata": {
        "colab": {
          "base_uri": "https://localhost:8080/"
        },
        "id": "mbg93Zvdo0kO",
        "outputId": "0f772aa4-2a84-47e5-d73b-baf56bc05150"
      },
      "execution_count": 50,
      "outputs": [
        {
          "output_type": "execute_result",
          "data": {
            "text/plain": [
              "array([0, 0, 0, 1, 1, 0, 0, 0, 0, 0, 1, 1, 1, 0, 1, 0, 0, 1, 0, 1, 1, 1,\n",
              "       1, 0, 0, 1, 0, 1, 0, 0, 0, 1, 1, 1, 1, 0, 1, 1, 0, 0, 1, 0, 1, 1,\n",
              "       1, 0, 1, 1, 1, 1, 0, 0, 0, 1, 0, 0, 1])"
            ]
          },
          "metadata": {},
          "execution_count": 50
        }
      ]
    },
    {
      "cell_type": "code",
      "source": [
        "y_pred = model.predict(x_test)\n",
        "y_pred"
      ],
      "metadata": {
        "colab": {
          "base_uri": "https://localhost:8080/"
        },
        "id": "eDTCpDdzo1cK",
        "outputId": "788f8444-e1bb-4aa6-c80f-1eba7e5fbb17"
      },
      "execution_count": 51,
      "outputs": [
        {
          "output_type": "execute_result",
          "data": {
            "text/plain": [
              "array([0, 0, 0, 1, 1, 0, 1, 0, 0, 1, 1, 1, 1, 1, 0, 0, 0, 1, 1, 1, 0, 0,\n",
              "       0, 0, 1])"
            ]
          },
          "metadata": {},
          "execution_count": 51
        }
      ]
    },
    {
      "cell_type": "code",
      "source": [
        "metrics.accuracy_score(y_train, Y_pred)"
      ],
      "metadata": {
        "colab": {
          "base_uri": "https://localhost:8080/"
        },
        "id": "ar6njdVwo6H9",
        "outputId": "2b60a25a-0b74-4e58-bf07-c44576e8ef3c"
      },
      "execution_count": 48,
      "outputs": [
        {
          "output_type": "execute_result",
          "data": {
            "text/plain": [
              "1.0"
            ]
          },
          "metadata": {},
          "execution_count": 48
        }
      ]
    },
    {
      "cell_type": "code",
      "source": [
        "metrics.accuracy_score(y_test, y_pred)"
      ],
      "metadata": {
        "colab": {
          "base_uri": "https://localhost:8080/"
        },
        "id": "7_0okRCvo6vJ",
        "outputId": "92700cc5-0904-424a-a14a-1e759d807253"
      },
      "execution_count": 49,
      "outputs": [
        {
          "output_type": "execute_result",
          "data": {
            "text/plain": [
              "1.0"
            ]
          },
          "metadata": {},
          "execution_count": 49
        }
      ]
    }
  ]
}